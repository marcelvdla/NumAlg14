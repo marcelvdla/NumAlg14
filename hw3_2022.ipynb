{
 "cells": [
  {
   "cell_type": "markdown",
   "id": "8adb98fb-0d56-485e-986c-8a04c70b6020",
   "metadata": {
    "nbgrader": {
     "grade": false,
     "grade_id": "cell-06d3e5bf55c941ae",
     "locked": true,
     "schema_version": 3,
     "solution": false,
     "task": false
    },
    "tags": []
   },
   "source": [
    "# Homework set 3"
   ]
  },
  {
   "cell_type": "markdown",
   "id": "f4d542f2-53a5-4571-996a-63307f888ed9",
   "metadata": {
    "nbgrader": {
     "grade": false,
     "grade_id": "cell-736ff6bc3e0d0696",
     "locked": true,
     "schema_version": 3,
     "solution": false,
     "task": false
    }
   },
   "source": [
    "Please **submit this Jupyter notebook through Canvas** no later than **Mon Nov. 21, 9:00**. **Submit the notebook file with your answers (as .ipynb file) and a pdf printout. The pdf version can be used by the teachers to provide feedback. A pdf version can be made using the save and export option in the Jupyter Lab file menu.**\n",
    "\n",
    "Homework is in **groups of two**, and you are expected to hand in original work. Work that is copied from another group will not be accepted."
   ]
  },
  {
   "cell_type": "markdown",
   "id": "5481631d-7c59-4b2f-be95-4a73568ad33c",
   "metadata": {
    "nbgrader": {
     "grade": false,
     "grade_id": "cell-b13bc5ed16bce8e0",
     "locked": true,
     "schema_version": 3,
     "solution": false,
     "task": false
    }
   },
   "source": [
    "# Exercise 0\n",
    "Write down the names + student ID of the people in your group."
   ]
  },
  {
   "cell_type": "markdown",
   "id": "423fae09-7e59-46ff-b4f6-0a4395438b2d",
   "metadata": {
    "nbgrader": {
     "grade": true,
     "grade_id": "cell-fd464f55ba436b1c",
     "locked": false,
     "points": 0,
     "schema_version": 3,
     "solution": true,
     "task": false
    }
   },
   "source": [
    "Marcel van de Lagemaat - 10886699 <br>\n",
    "Anton Andersen - 14718758 "
   ]
  },
  {
   "cell_type": "markdown",
   "id": "de187452-d370-4a1c-bfc9-2bad40f45833",
   "metadata": {
    "nbgrader": {
     "grade": false,
     "grade_id": "cell-b5a7855ecca9f6be",
     "locked": true,
     "schema_version": 3,
     "solution": false,
     "task": false
    }
   },
   "source": [
    "Run the following cell to import NumPy and Pyplot."
   ]
  },
  {
   "cell_type": "code",
   "execution_count": 2,
   "id": "1599c119-77a5-42e3-936a-6f6515e88e35",
   "metadata": {},
   "outputs": [],
   "source": [
    "import numpy as np\n",
    "import matplotlib.pyplot as plt"
   ]
  },
  {
   "cell_type": "markdown",
   "id": "33de5356-90ed-4fea-b7e5-396c316d1d4c",
   "metadata": {},
   "source": [
    "# Exercise 1"
   ]
  },
  {
   "cell_type": "markdown",
   "id": "73f6eb1d-666c-4aa7-8969-f30895ec0c76",
   "metadata": {},
   "source": [
    "In this exercise you will study the accuracy of several methods for computing the QR decomposition. You are asked to implement these methods yourself. (However, when testing your implementation you may compare with an external implementation.)\n"
   ]
  },
  {
   "cell_type": "markdown",
   "id": "0880f0a3-e3ed-4dbd-bdc5-40ccfb753978",
   "metadata": {
    "jupyter": {
     "source_hidden": true
    },
    "tags": []
   },
   "source": [
    "## (a) \n",
    "Implement the classical and modified Gram-Schmidt procedures for computing the QR decomposition.\n",
    "\n",
    "Include a short documentation using triple quotes: describe at least the input and the output, and whether the code modifies the input matrix.\n"
   ]
  },
  {
   "cell_type": "code",
   "execution_count": 3,
   "id": "26f5a07a-b579-46bd-af9d-3db3146a782e",
   "metadata": {},
   "outputs": [],
   "source": [
    "def classical_gram_schmidt(A):\n",
    "    \"\"\" INPUT: Takes an mxn array.\n",
    "    OUTPUT: Returns the qr factorization with decomposed orthogonal matrix q and triangular matrix r. \n",
    "    Computes the classical Gram-Schmidt qr factorization of the array A. \n",
    "    The function orthonormalizes the vector with respect to each other. \"\"\"\n",
    "    q, r = np.zeros(A.shape), np.zeros(A.shape)\n",
    "    for k in range(A.shape[1]):\n",
    "        q_k = A[:,k]\n",
    "\n",
    "        for i in range(k):\n",
    "            r[i,k] = q[:,i] @ A[:,k]\n",
    "            q_k = q_k - q[:,i] * r[i,k]\n",
    "        r[k,k] = np.linalg.norm(q_k, 2)\n",
    "\n",
    "        if r[k,k] == 0:\n",
    "            break\n",
    "        \n",
    "        q_k = q_k / r[k,k]\n",
    "        q[:,k] = np.transpose(q_k) \n",
    "    return q, r\n",
    "    \n",
    "\n",
    "def modified_gram_schmidt(A):\n",
    "    \"\"\" INPUT: Takes an mxn array.\n",
    "    OUTPUT: Returns the qr factorization with decomposed orthogonal matrix q and triangular matrix r. \n",
    "    Computes the Modified Gram-Schmidt qr factorization of the array A. \n",
    "    The function orthonormalizes the vector with respect to each other. \"\"\"\n",
    "    col = A.shape[0]\n",
    "    r = np.zeros([A.shape[1],A.shape[1]])\n",
    "    for k in range(A.shape[1]):\n",
    "        r[k,k] = np.linalg.norm(A[:,k], 2)\n",
    "        if r[k,k] == 0:\n",
    "            break\n",
    "        A[:,k] = A[:,k] / r[k,k]\n",
    "        for i in range(k+1, A.shape[1]):\n",
    "            r[k,i] = A[:,k].T @ A[:,i]\n",
    "            A[:,i] = A[:,i] - r[k,i] * A[:,k]\n",
    "    return A, r"
   ]
  },
  {
   "cell_type": "markdown",
   "id": "a337d211-e9b2-4157-9d85-a3635efb3431",
   "metadata": {},
   "source": [
    "## (b) (a+b 3.5 pts)\n",
    "Let $H$ be a Hilbert matrix of size $n$ (see Computer Problem 2.6). Study the quality of the QR decompositions obtained using the two methods of part (a), specifically the loss of orthogonality. In order to do so, plot the quantity $\\| I - Q^T Q \\|$ as a function of $n$ on a log scale. Vary $n$ from $2$ to $12$.\n",
    "\n"
   ]
  },
  {
   "cell_type": "code",
   "execution_count": 21,
   "id": "cff553c1-4044-4683-9555-f8a0f741f66e",
   "metadata": {},
   "outputs": [
    {
     "data": {
      "image/png": "[encoded data removed]",
      "text/plain": [
       "<Figure size 432x288 with 1 Axes>"
      ]
     },
     "metadata": {
      "needs_background": "light"
     },
     "output_type": "display_data"
    }
   ],
   "source": [
    "from scipy.linalg import hilbert\n",
    "\n",
    "def residual(func, twice=False):\n",
    "    q_list = [func(hilbert(n))[0] for n in range(2,13)]\n",
    "    if twice:\n",
    "        q_list = [func(q)[0] for q in q_list]\n",
    "    return [np.linalg.norm(np.eye(len(q))-q.T @ q, 2) for q in q_list]\n",
    "\n",
    "hilbert_gs = residual(classical_gram_schmidt)\n",
    "hilbert_mod_gs = residual(modified_gram_schmidt)\n",
    "hilbert_np  = residual(np.linalg.qr)\n",
    "\n",
    "plt.semilogy(range(2,13), hilbert_gs, label = 'Gram-Schmidt')\n",
    "plt.semilogy(range(2,13), hilbert_mod_gs, label = 'Modified Gram-Schmidt')\n",
    "plt.semilogy(range(2,13), hilbert_np, label = 'NumPy QR-decomposition')\n",
    "plt.xlabel('Size of matrix (n)')\n",
    "plt.ylabel('Residuals')\n",
    "plt.legend()\n",
    "plt.show()"
   ]
  },
  {
   "cell_type": "markdown",
   "id": "f2d6cf46-3796-405b-ab46-bc9575a5f648",
   "metadata": {},
   "source": [
    "## (c) (1.5 pts)\n",
    "Try applying the classical procedure twice. Plot again the loss of orthogonality when computing the QR decomposition of the Hilbert matrix of size $n$ as in (b).\n"
   ]
  },
  {
   "cell_type": "code",
   "execution_count": 23,
   "id": "b4574283-5b0e-4f54-a0e4-727a9246db7e",
   "metadata": {},
   "outputs": [
    {
     "data": {
      "image/png": "[encoded data removed]",
      "text/plain": [
       "<Figure size 432x288 with 1 Axes>"
      ]
     },
     "metadata": {
      "needs_background": "light"
     },
     "output_type": "display_data"
    }
   ],
   "source": [
    "hilbert_second = residual(classical_gram_schmidt, twice=True)\n",
    "    \n",
    "plt.semilogy(range(2,13), hilbert_gs, label = 'Gram-Schmidt')\n",
    "plt.semilogy(range(2,13), hilbert_second, label = 'Second Gram-Schmidt')\n",
    "plt.xlabel('Size of matrix (n)')\n",
    "plt.ylabel('Residuals')\n",
    "plt.legend()\n",
    "plt.show()"
   ]
  },
  {
   "cell_type": "markdown",
   "id": "d61d724c-3216-4742-9c8c-f411ad437193",
   "metadata": {},
   "source": [
    "## (d) (2 pts)\n",
    "Implement the Householder method for computing the QR decomposition. Remember to include a short documentation."
   ]
  },
  {
   "cell_type": "code",
   "execution_count": 216,
   "id": "a5fa9b4f-4a69-4dcf-bee4-23e67746ed06",
   "metadata": {},
   "outputs": [],
   "source": [
    "def householder_qr(A):\n",
    "    ''' Add some comments\n",
    "    '''\n",
    "    rows, cols = A.shape\n",
    "    Q = np.eye(cols)\n",
    "    R = A.copy()\n",
    "\n",
    "    for k in range(min(cols, rows-1)):\n",
    "        # Compute Householder vector\n",
    "        alpha_k = -np.sign(R[k,k]) * np.linalg.norm(R[k:,k], 2)\n",
    "        t = np.array([0 for _ in range(rows - len(R[k:,k]))] + list(R[k:,k]))\n",
    "        e_k = np.array([0 for _ in range(rows - len(R[k:,k]))] + [1] + [0 for _ in range(k,rows-1)])\n",
    "        v_k =  t.T - alpha_k * e_k\n",
    "        \n",
    "        # Skip column if it is already 0\n",
    "        beta_k = np.dot(v_k.T, v_k)\n",
    "        if beta_k == 0:\n",
    "            break\n",
    "        \n",
    "        # Compute Householder matrix H_k\n",
    "        v = np.array([len(v_k) * [V] for V in v_k])\n",
    "        vvT =  v @ v.T\n",
    "        H = np.eye(cols) - 2 * (vvT / np.linalg.norm(vvT,2))\n",
    "        Q = Q @ H\n",
    "\n",
    "        # Apply transformation to matrix \n",
    "        for j in range(k, cols):\n",
    "            gamma_j = v_k.T @ R[:,j]\n",
    "            t = (2 * gamma_j / beta_k) * v_k\n",
    "            R[:,j] = R[:,j] - t\n",
    "    \n",
    "    return Q, R"
   ]
  },
  {
   "cell_type": "code",
   "execution_count": 219,
   "id": "224a807d",
   "metadata": {},
   "outputs": [],
   "source": [
    "# A = np.array([[2,-2,18],[2,1,0],[1,2,0]], dtype=float)\n",
    "# A = np.random.random((3,3))\n",
    "# Q, R = householder_qr(A)\n",
    "# Q_, R_ = np.linalg.qr(A)"
   ]
  },
  {
   "cell_type": "markdown",
   "id": "35df642d-7348-407a-9755-b8ac03045541",
   "metadata": {},
   "source": [
    "## (e) (2 pts)\n",
    "Perform the analysis of (b) for the Householder method. Discuss the differences between all the methods you have tested so far. Look online and/or in books for information about the accuracy of the different methods and include this in your explanations (with reference).\n"
   ]
  },
  {
   "cell_type": "code",
   "execution_count": 220,
   "id": "eb790bfb-2f80-4630-aeb6-30ff0b604cc7",
   "metadata": {},
   "outputs": [
    {
     "data": {
      "image/png": "[encoded data removed]",
      "text/plain": [
       "<Figure size 432x288 with 1 Axes>"
      ]
     },
     "metadata": {
      "needs_background": "light"
     },
     "output_type": "display_data"
    }
   ],
   "source": [
    "hilbert_house = residual(householder_qr)\n",
    "\n",
    "plt.semilogy(range(2,13), hilbert_house, label = 'Householder QR')\n",
    "plt.xlabel('Size of matrix (n)')\n",
    "plt.ylabel('Residuals')\n",
    "plt.legend()\n",
    "plt.show()"
   ]
  },
  {
   "cell_type": "markdown",
   "id": "b59a127c-1f5f-4122-927c-20b0e90c5cb4",
   "metadata": {},
   "source": [
    "Shao, M. (2021). Householder orthogonalization with a non-standard inner product. arXiv preprint arXiv:2104.04180. \n",
    "    In the paper, Shao (2011) finds similar results, that GS and MGS lead to more loss of orthogonality than Householder reflectors,\n",
    "    indicating that the Householder reflectors are numerically more stable. \n",
    "  "
   ]
  },
  {
   "cell_type": "code",
   "execution_count": null,
   "id": "93b0db7a-3c04-4312-8125-58d10d80a8d5",
   "metadata": {},
   "outputs": [],
   "source": []
  }
 ],
 "metadata": {
  "kernelspec": {
   "display_name": "Python 3 (ipykernel)",
   "language": "python",
   "name": "python3"
  },
  "language_info": {
   "codemirror_mode": {
    "name": "ipython",
    "version": 3
   },
   "file_extension": ".py",
   "mimetype": "text/x-python",
   "name": "python",
   "nbconvert_exporter": "python",
   "pygments_lexer": "ipython3",
   "version": "3.10.6"
  },
  "vscode": {
   "interpreter": {
    "hash": "916dbcbb3f70747c44a77c7bcd40155683ae19c65e1c03b4aa3499c5328201f1"
   }
  }
 },
 "nbformat": 4,
 "nbformat_minor": 5
}
