{
 "cells": [
  {
   "cell_type": "markdown",
   "id": "d4c81d3e-6c35-4c9e-9721-dc27a3d00251",
   "metadata": {
    "nbgrader": {
     "grade": false,
     "grade_id": "cell-06d3e5bf55c941ae",
     "locked": true,
     "schema_version": 3,
     "solution": false,
     "task": false
    },
    "tags": []
   },
   "source": [
    "# Homework set 4"
   ]
  },
  {
   "cell_type": "markdown",
   "id": "64728360-8bed-4d1f-bb87-bf746ea66002",
   "metadata": {
    "nbgrader": {
     "grade": false,
     "grade_id": "cell-736ff6bc3e0d0696",
     "locked": true,
     "schema_version": 3,
     "solution": false,
     "task": false
    }
   },
   "source": [
    "Before you turn this problem in, make sure everything runs as expected (in the menubar, select Kernel → Restart Kernel and Run All Cells...).\n",
    "\n",
    "Please **submit this Jupyter notebook through Canvas** no later than **Mon Nov. 28, 9:00**. **Submit the notebook file with your answers (as .ipynb file) and a pdf printout. The pdf version can be used by the teachers to provide feedback. A pdf version can be made using the save and export option in the Jupyter Lab file menu.**\n",
    "\n",
    "Homework is in **groups of two**, and you are expected to hand in original work. Work that is copied from another group will not be accepted."
   ]
  },
  {
   "cell_type": "markdown",
   "id": "d8c33491-f6d6-45df-9857-8fae1d7d446c",
   "metadata": {
    "nbgrader": {
     "grade": false,
     "grade_id": "cell-b13bc5ed16bce8e0",
     "locked": true,
     "schema_version": 3,
     "solution": false,
     "task": false
    }
   },
   "source": [
    "# Exercise 0\n",
    "Write down the names + student ID of the people in your group."
   ]
  },
  {
   "cell_type": "markdown",
   "id": "9483e0d9-7aec-4521-90ac-761fb34ee023",
   "metadata": {
    "nbgrader": {
     "grade": true,
     "grade_id": "cell-fd464f55ba436b1c",
     "locked": false,
     "points": 0,
     "schema_version": 3,
     "solution": true,
     "task": false
    }
   },
   "source": [
    "Marcel van de Lagemaat - 10886699 <br>\n",
    "Anton Andersen - 14718758 "
   ]
  },
  {
   "cell_type": "markdown",
   "id": "40a6166f-8dc2-4eb0-b953-961fe8f7a2ce",
   "metadata": {},
   "source": [
    "# About imports\n",
    "Please import the needed packages by yourself."
   ]
  },
  {
   "cell_type": "markdown",
   "id": "a78e262c-f192-4fe5-853b-03248173a9be",
   "metadata": {},
   "source": [
    "# Sparse matrices\n",
    "A _sparse matrix_ or _sparse array_ is a matrix in which most of the elements are zero. There is no strict definition how many elements need to be zero for a matrix to be considered sparse. In many examples, the number of nonzeros per row or column is a small fraction, a few percent or less, of the total number of elements of the row or column. By contrast, if most of the elements are nonzero, then the matrix is considered _dense_. \n",
    "\n",
    "In the context of software for scientific computing, a sparse matrix typically refers to a storage format, in which elements which are known to be zero are not stored. In Python, the library `scipy.sparse` defines several sparse matrix classes, such as `scipy.sparse.coo_matrix`. To construct such an object, one passes for each nonzero element the value, and the row and column coordinates. In some cases, one can also just pass the nonzero (off-)diagonals, see `scipy.sparse.diags`.\n",
    "\n",
    "Functions for dense matrices do not always work with sparse matrices. For example for the product of a sparse matrix with a (dense) vector, there is the member function `scipy.sparse.coo_matrix.dot`, and for solving linear equations involving a sparse matrix, there is the function `scipy.sparse.linalg.spsolve`."
   ]
  },
  {
   "cell_type": "code",
   "execution_count": 4,
   "id": "a15365c2-c8be-49b7-b74f-e6ef30ffd26d",
   "metadata": {},
   "outputs": [],
   "source": [
    "# Import some basic packages\n",
    "import numpy as np\n",
    "import matplotlib.pyplot as plt\n",
    "import math"
   ]
  },
  {
   "cell_type": "code",
   "execution_count": 7,
   "id": "5af47d5f-d55a-4902-b99c-9ce793726c32",
   "metadata": {},
   "outputs": [
    {
     "name": "stdout",
     "output_type": "stream",
     "text": [
      "When printing a sparse matrix, it shows its nonzero entries:\n",
      "  (0, 0)\t4.0\n",
      "  (3, 3)\t5.0\n",
      "  (1, 1)\t7.0\n",
      "  (0, 2)\t9.0\n",
      "If you want to see its `dense` matrix form, you have to use `mat.toarray()`:\n",
      "[[4. 0. 9. 0.]\n",
      " [0. 7. 0. 0.]\n",
      " [0. 0. 0. 0.]\n",
      " [0. 0. 0. 5.]]\n",
      "For x=[1 2 3 4], Mx = [31. 14.  0. 20.]\n"
     ]
    }
   ],
   "source": [
    "from scipy.sparse import coo_matrix\n",
    "\n",
    "# This is how to create a sparse matrix from a given list of (row, column, value) tuples.\n",
    "row  = [0,   3,   1,   0]\n",
    "col  = [0,   3,   1,   2]\n",
    "data = [4.0, 5.0, 7.0, 9.0]\n",
    "M = coo_matrix((data, (row, col)), shape=(4, 4))\n",
    "\n",
    "print(\"When printing a sparse matrix, it shows its nonzero entries:\")\n",
    "print(M)\n",
    "\n",
    "print(\"If you want to see its `dense` matrix form, you have to use `mat.toarray()`:\")\n",
    "print(M.toarray())\n",
    "\n",
    "# This is how to perform matrix-vector products.\n",
    "x = np.array([1, 2, 3, 4])\n",
    "print(\"For x={}, Mx = {}\".format(x, M.dot(x)))"
   ]
  },
  {
   "cell_type": "code",
   "execution_count": 8,
   "id": "7f1c616d-9651-4da7-94fc-3e53f2362250",
   "metadata": {},
   "outputs": [
    {
     "name": "stdout",
     "output_type": "stream",
     "text": [
      "This matrix has values on its diagonal and on offdiagonals 1 and 2 rows ABOVE it.\n",
      "[[1. 1. 1. 0.]\n",
      " [0. 2. 2. 2.]\n",
      " [0. 0. 3. 3.]\n",
      " [0. 0. 0. 4.]]\n",
      "This matrix has values on its diagonal and on offdiagonals 1 and 2 rows BELOW it.\n",
      "[[1. 0. 0. 0.]\n",
      " [1. 2. 0. 0.]\n",
      " [1. 2. 3. 0.]\n",
      " [0. 2. 3. 4.]]\n",
      "If you want to visualize the matrix for yourself, use `plt.imshow`:\n"
     ]
    },
    {
     "data": {
      "image/png": "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",
      "text/plain": [
       "<Figure size 432x288 with 2 Axes>"
      ]
     },
     "metadata": {
      "needs_background": "light"
     },
     "output_type": "display_data"
    },
    {
     "name": "stdout",
     "output_type": "stream",
     "text": [
      "For b=[1 2 3 4], the solution x to Mx=b is [1.         0.5        0.33333333 0.5       ]\n",
      "And indeed, Mx - b = [0. 0. 0. 0.]\n"
     ]
    }
   ],
   "source": [
    "from scipy.sparse import diags, SparseEfficiencyWarning\n",
    "from scipy.sparse.linalg import spsolve\n",
    "import warnings\n",
    "warnings.simplefilter('ignore', SparseEfficiencyWarning)  # Suppress confusing warning\n",
    "\n",
    "# This is how to create a sparse matrix from a given list of subdiagonals.\n",
    "diagonals = [[1, 2, 3, 4], [1, 2, 3], [1, 2]]\n",
    "M = diags(diagonals, [0, 1, 2])\n",
    "print(\"This matrix has values on its diagonal and on offdiagonals 1 and 2 rows ABOVE it.\")\n",
    "print(M.toarray())\n",
    "\n",
    "M = diags(diagonals, [0, -1, -2])\n",
    "print(\"This matrix has values on its diagonal and on offdiagonals 1 and 2 rows BELOW it.\")\n",
    "print(M.toarray())\n",
    "\n",
    "print(\"If you want to visualize the matrix for yourself, use `plt.imshow`:\")\n",
    "plt.imshow(M.toarray())\n",
    "plt.colorbar()\n",
    "plt.show()\n",
    "\n",
    "# This is how to solve sparse systems.\n",
    "b = np.array([1, 2, 3, 4])\n",
    "x = spsolve(M, b)\n",
    "print(\"For b={}, the solution x to Mx=b is {}\".format(b, x))\n",
    "print(\"And indeed, Mx - b = {}\".format(M.dot(x) - b))"
   ]
  },
  {
   "cell_type": "markdown",
   "id": "972d8aca-b5f4-48a5-8a43-f3dccb0ea9ef",
   "metadata": {},
   "source": [
    "--------\n",
    "# Exercise 1\n",
    "Consider the following boundary value problem involving a nonlinear ordinary differential equation:\n",
    "\n",
    "$$ \\tag{1} y''(x) + \\exp(y(x)) = 0, \\quad 0 < x < 1, \\quad y(0) = y(1) = 0.$$\n",
    "\n",
    "The purpose of this exercise is to approximate the solution to this boundary value problem, by discretizing the problem and then solving the resulting system of nonlinear equations. "
   ]
  },
  {
   "cell_type": "markdown",
   "id": "cb770a03-ba0f-4de2-b326-c429868fa1ac",
   "metadata": {},
   "source": [
    "Problem (1) will be discretized using finite differences. Suppose we use $n+2$ discretization points for $x$, denoted $x_k = kh$ for $k \\in \\{0, \\ldots, n+1\\}$ and $h = 1/(n+1)$. The approximate solution is denoted $y_k = y(x_k)$. \n",
    "\n",
    "We will use a _second-order central finite difference_ approximation for the second derivative: \n",
    "\n",
    "$$ \\tag{2} y''(x_k) \\approx \\frac{y_{k-1} - 2 y_k + y_{k+1}}{h^2}.$$\n",
    "\n",
    "The term $\\exp(y(x_k))$ can simply be approximated by $\\exp(y_k)$. Thus for $x=x_k$, equation (1) becomes\n",
    "\n",
    "$$ \\tag{3} \\frac{y_{k-1} - 2 y_k + y_{k+1}}{h^2} + \\exp y_k = 0, \\quad k = 1, \\ldots, n.$$\n",
    "\n",
    "The boundary conditions (the conditions $y(0) = y(1) = 1$), lead to the requirement that $y_0 = y_{n+1} = 0$. To find the remaining values $y_k$, $k=1, \\ldots, n$, equation (3) will be used for $k = 1, \\ldots, n$. In this way, one obtains $n$ equations for $n$ unknowns, to which, in principle, a rootfinding method can be applied.\n",
    "\n",
    "We will write $\\vec y = \\begin{bmatrix} y_1 \\\\ \\vdots \\\\ y_n \\end{bmatrix}$ for the vector of values to be determined. \n"
   ]
  },
  {
   "cell_type": "markdown",
   "id": "7c341388-63b4-4b7a-aeaf-9dcf4173cefc",
   "metadata": {},
   "source": [
    "## (a)  (2 pts)\n",
    "As a first step, finish the function `SecondDerMatrix` that returns a matrix $\\bf{M}$ that maps the vector $\\vec y$ to the vector of the approximate values $y''(x_k)$, $k=1, \\ldots, n$ given in (2). To get full points for this part of the exercise you must create output in the form of a sparse matrix."
   ]
  },
  {
   "cell_type": "code",
   "execution_count": 5,
   "id": "dcbf2b55-d129-4cbe-a517-416c2682d8d5",
   "metadata": {},
   "outputs": [],
   "source": [
    "from scipy.sparse import coo_matrix\n",
    "\n",
    "def SecondDerMatrix(n):\n",
    "    \"\"\" Comment stuff here\n",
    "    \"\"\"\n",
    "    h = 1 / (n + 1)\n",
    "    y_k1 = 1 / (h ** 2)\n",
    "    y_k = - 2 / (h ** 2)\n",
    "\n",
    "    diag = np.array([k for k in range(n)])\n",
    "    diag_up = np.array([k + 1 for k in range(n-1)])\n",
    "    diag_down = np.array([k-1 for k in range(1, n)])\n",
    "\n",
    "    row = np.concatenate((diag, diag_down, diag_up))\n",
    "    col = np.concatenate((diag, diag_up, diag_down))\n",
    "\n",
    "    data_diag = np.array([y_k for _ in range(n)])\n",
    "    data_diag1 = np.array([y_k1 for _ in range(2 * (n-1))])\n",
    "    data = np.concatenate((data_diag, data_diag1))\n",
    "\n",
    "    return coo_matrix((data, (row, col)), shape=(n,n)).toarray()"
   ]
  },
  {
   "cell_type": "markdown",
   "id": "402404a4-8673-4529-b452-94c05e994cf2",
   "metadata": {},
   "source": [
    "## (b)  (1 pt)\n",
    "Second-order central finite differences are exact for quadratic functions. In order to test your implementation, choose $n=10$ and apply the second derivative matrix from part (a) to a quadratic function $y(x)$ with $y(0) = y(1) = 0$ for which you know the second derivative $y''(x)$."
   ]
  },
  {
   "cell_type": "code",
   "execution_count": 12,
   "id": "dea2b67c-4c28-42f3-9555-fdc2795741ab",
   "metadata": {},
   "outputs": [
    {
     "name": "stdout",
     "output_type": "stream",
     "text": [
      "The solution to b is: [-0.49586777 -0.74380165 -0.82644628 -0.80991736 -0.74380165 -0.66115702\n",
      " -0.5785124  -0.49586777 -0.39669421 -0.24793388]. \n",
      "And checking the answer (M @ x - b = 0) with a test gives True. So the solution is correct.\n"
     ]
    },
    {
     "data": {
      "image/png": "iVBORw0KGgoAAAANSUhEUgAAAXAAAAD4CAYAAAD1jb0+AAAAOXRFWHRTb2Z0d2FyZQBNYXRwbG90bGliIHZlcnNpb24zLjUuMSwgaHR0cHM6Ly9tYXRwbG90bGliLm9yZy/YYfK9AAAACXBIWXMAAAsTAAALEwEAmpwYAABAHElEQVR4nO3dd1hUV/rA8e9hqGLBgoigYq8gSDH2EktiTLPEqMmKpseUzUazmmzKmpgYTd9UYyzJ+staYkwzsUSNvaACKooVlaIiSlMQGM7vj4soCgJSLuX9PA8PM3fu3PvOMPNy7rnnnldprRFCCFH52JgdgBBCiFsjCVwIISopSeBCCFFJSQIXQohKShK4EEJUUrblubMGDRpoLy+v8tylEEJUert27TqntXa9fnm5JnAvLy9CQkLKc5dCCFHpKaVO5LdculCEEKKSkgQuhBCVlCRwIYSopMq1D1xUTJmZmURHR5Oenm52KEJUa46Ojnh6emJnZ1ek9SWBC6Kjo6lVqxZeXl4opcwOR4hqSWtNQkIC0dHRNG/evEjPqfhdKGfWwW/ekHY6721RatLT06lfv74kbyFMpJSifv36xToSrtgJ/Mw6WD8Ukg/ClrFXb+970+zIqhxJ3kKYr7jfw4qdwEOeg+wM0FlwdiNYLxm3Ty4xOzIhhDBdxU7g/VdBw96gbEFnGsssThD4ublxiVJnsVjw9fXN/ZkxY0apbTs0NJQVK1aU2vaEqCgq9knM5INwbpvR6r5CW+H0Wmg6wry4qrnle2KYtTKS2MQ0Grs4MXlwW+7z8yjRNp2cnAgNDS2dAK8TGhpKSEgIQ4YMKZPtl5asrCxsbSv2V1JULBW7BX6lCwWMVjgY908tNS+mam75nhimLttLTGIaGohJTGPqsr0s3xNT6vtKSkqibdu2REZGAjB69Gi+/vprAJ566ikCAgLo2LEjr7/+eu5zdu7cSffu3encuTNBQUEkJSXx2muvsWjRInx9fVm0aFGefURFRdGrVy+6dOlCly5d2LJlCwDr16+nb9++jBgxgnbt2jF27FiuVK+aMmUKHTp0wMfHh0mTJmG1WmnRogVaaxITE7GxsWHDhg0A9OrViyNHjnDx4kUmTJhAYGAgfn5+/PTTTwDMnz+fkSNHcvfddzNo0KBSfw9F1Vbov3ullCOwAXDIWX+p1vp1pVQ9YBHgBUQBD2itL5RqdP1XGycsTy6BLh/A9seMFniP/5XqbsRV//5lPxGxyQU+vudkIhnW7DzL0jKtvLQ0nO93nMz3OR0a1+b1uzvedL9paWn4+vrm3p86dSqjRo3i008/JTg4mOeff54LFy7w2GOPATB9+nTq1auH1Wrl9ttvJzw8nHbt2jFq1CgWLVpEYGAgycnJ1KhRg2nTphESEsKnn356w34bNmzI6tWrcXR05PDhw4wePTp3vp49e/awf/9+GjduTI8ePdi8eTMdOnTgxx9/5ODBgyilSExMxGKx0KZNGyIiIjh+/Dj+/v5s3LiRrl27Eh0dTatWrXj55Zfp378/c+fOJTExkaCgIAYMGADA1q1bCQ8Pp169ejd9j4S4XlGO1y4D/bXWqUopO2CTUup3YBjwp9Z6hlJqCjAF+GepRufUiOW2LzPr8HBid6bxnOcjvFDvs7xdKqJcXZ+8C1teVAV1oQwcOJAlS5YwceJEwsLCcpcvXryY2bNnk5WVRVxcHBERESilcHd3JzAwEIDatWsXut/MzEyeeeYZQkNDsVgsHDp0KPexoKAgPD09AfD19SUqKorbbrsNR0dHHn30Ue666y6GDh0KGC3tDRs2cPz4caZOncrXX39Nnz59cmNZtWoVP//8M++99x5gDN08efJk7muU5C1uRaEJXBvHjak5d+1yfjRwL9A3Z/kCYD2lnMCvHK6nZVoB+CJmAA/UXILz1km43B8KqmL3AFVGhbWUe8xYS0xi2g3LPVycWPREt1KPJzs7mwMHDuDk5MT58+fx9PTk+PHjvPfee+zcuZO6desSHBxMeno6WutiD8P68MMPcXNzIywsjOzsbBwdHXMfc3BwyL1tsVhy+6h37NjBn3/+yf/+9z8+/fRT1q5dS69evfjyyy+JjY1l2rRpzJo1i/Xr19O7d2/AuEjjhx9+oG3btnn2v337dpydnUvwDonqrEgZUCllUUqFAmeB1Vrr7YCb1joOIOd3w9IObtbKyNzkDZCh7Xj/9Fhc0vfCSekHN8PkwW1xsrPkWeZkZ2Hy4LYFPKNkPvzwQ9q3b8/333/PhAkTyMzMJDk5GWdnZ+rUqcOZM2f4/fffAWjXrh2xsbHs3LkTgJSUFLKysqhVqxYpKSn5bj8pKQl3d3dsbGz47rvvsFqt+a53RWpqKklJSQwZMoSPPvoo96iha9eubNmyBRsbGxwdHfH19eWrr76iV69eAAwePJj//Oc/uf3oe/bsKY23R1RzRUrgWmur1toX8ASClFKdiroDpdTjSqkQpVRIfHx8sYKLzaeltzyxL5HpTSH8X5CdWaztiZK7z8+Dd4Z54+HihMJoeb8zzLvEo1Cu9IFf+ZkyZQqHDh1izpw5vP/++/Tq1YvevXvz1ltv0blzZ/z8/OjYsSMTJkygR48eANjb27No0SKeffZZOnfuzMCBA0lPT6dfv35ERETkexLz6aefZsGCBdx2220cOnSo0NZwSkoKQ4cOxcfHhz59+vDhhx8CRmu9SZMm3HbbbYDRpZKSkoK3tzcAr776KpmZmfj4+NCpUydeffXVEr1fQgCoKy2CIj9BqdeBi8BjQF+tdZxSyh1Yr7W+aTMsICBAF6egQ0GH66Pc9/Cu66sQNBtaPVas+MWNDhw4QPv27c0OQwhB/t9HpdQurXXA9esW2gJXSrkqpVxybjsBA4CDwM/AuJzVxgE/lSzsG+V3uG5ro+jWKxgadIO9b0DWjQleCCGqg6J0obgD65RS4cBOjD7wX4EZwECl1GFgYM79UnX94bqTnQWtNV1b1ofO70BaLBy6cWiYEEJUB0UZhRIO+OWzPAG4vSyCutZ9fh65/aunzl+i//vr+XjNYWYM7wPud0DEO0Y3ir1LWYcihBAVSqUah9ekXg3Gdm3G4pBTHI1Phc5vQ8YFOPCe2aEJIUS5q1QJHOCZ/q1wtLPwwapDUM8Pmo6Cgx/KHOFCiGqn0iXwBjUdeLRXC37bG0d4dCL4vAnZl2HfW2aHJoQQ5arSJXCAx3o1p24NO2atjITaraHlo3DkK0g9ZnZo4hZNnz6djh074uPjg6+vL9u3b7/p+n379qWwIanLly8nIiIi9/5rr73GmjVrSiXe60VFRdGpU/6XR1y7340bN9KxY0d8fX3ZunVruUxzO2TIEBITE0lMTOTzz69Oxbx+/frcqQBKIiEhgX79+lGzZk2eeeaZAte79rWnpd3a6LErrwWgZs2awM3f+8LMnz+f2NjYYj+vPD9bN1MpE3gtRzsm9mvFxsPn2HzkHHR6DWxsIfz1wp8sSq6Uy9xt3bqVX3/9ld27dxMeHs6aNWto0qRJicO8/ks2bdq03AmkytO1+124cCGTJk0iNDSUyMjIYifwrKzizwO0YsUKXFxcbkjgt8LLy+uGZY6Ojrz55pu587wU5NrX7uTkVOi+8rsq9sprKS03S+A3uyq3ony2KmUCB3jotma413Fk5spItJM7tH0eohbChXCzQ6vayqDMXVxcHA0aNMide6RBgwY0btwYgD///BM/Pz+8vb2ZMGECly9fvuH5V1piAEuXLiU4OJgtW7bw888/M3nyZHx9fTl69CjBwcEsXbr0ptv18vLi9ddfp0uXLnh7e3Pw4MEb9rd//36CgoLw9fXFx8eHw4cPA8YX/rHHHqNjx44MGjQot5V5Zb9z5sxh8eLFTJs2jdGjR98wze2tTDk7c+ZMPvnkEwBeeOEF+vfvn/v6HnroodzXdO7cOaZMmcLRo0fx9fVl8uTJgDE1QH5T5haHs7MzPXv2zDOPzPWufe1X9jN58mQ6deqEt7d37hWy69evp1+/fowZMyb3KtZrXXktBZk/f36eo4ChQ4eyfv16rFYrwcHBufv78MMPWbp0KSEhIYwdOzb3qMDLy4tp06bRs2dPlixZwtdff01gYCCdO3dm+PDhXLp0qUw/W8VVaRO4o52FFwa0IexUIiv3n4EO/wS72hD2itmhVW67/g5r+hb8s37o1dJ2Z9ZfvX3k64Kfs+vvN93loEGDOHXqFG3atOHpp5/mr7/+AowZ+4KDg1m0aBF79+4lKyuLL774okgvo3v37txzzz3MmjWL0NBQWrZsmftYYdtt0KABu3fv5qmnnsq3Vfnll1/y/PPP5xaKuDJj4eHDh5k4cSL79+/HxcWFH374Ic/zHn300dyYvv/+e6ZNm8aoUaMIDQ1l1KhRTJ8+nf79+7Nz507WrVvH5MmTuXjxImAcpSxYsIC1a9fm2Wbv3r3ZuHEjACEhIaSmppKZmcmmTZty52G5YsaMGbRs2ZLQ0FBmzZoFGHOyfPTRR0RERHDs2DE2b95cpPe3uK597QsXLmTZsmWEhoYSFhbGmjVrmDx5MnFxcQDs2LGD6dOn52nhllRoaCgxMTHs27ePvXv3Mn78eEaMGEFAQAALFy7Mc1Tg6OjIpk2bePDBBxk2bBg7d+4kLCyM9u3b880335TpZ6u4Km0CBxjWxYOWrs68tyqSLEsdI4nH/grxZfMhFICLD9i5YHx0rkwhawO1Wt/yJmvWrMmuXbuYPXs2rq6ujBo1ivnz5xMZGUnz5s1p06YNAOPGjcstlFAShW132LBhAPj7+xMVFXXD87t168bbb7/Nu+++y4kTJ3K/+M2bN8+d07yg597MqlWrmDFjBr6+vvTt27dIU876+/uza9cuUlJScHBwoFu3boSEhLBx48YbEnh+rkyZa2Njkztl7vWmT5+eO0dNbGxs7u2JEycW6/Vda9OmTYwePRqLxYKbmxt9+vTJnYQsKCiI5s2b3/K289OiRQuOHTvGs88+yx9//HHTqYZHjRqVe3vfvn306tULb29vFi5cyP79+2+6n5J+toqrUtdvsrXYMGlQW55auJtle2J4wPc5iPwEQqfAgA0gldaLz/+jmz9+pQuFa+b/trGFhn0g6Nb7Vy0WC3379qVv3754e3uzYMGCPAUebubaKWTT09MLXb+wboIrXTlXppC93pgxY+jatSu//fYbgwcPZs6cObRo0eKG6WeLe6LuVqactbOzw8vLi3nz5tG9e3d8fHxYt24dR48eLdL8NvlNmXu9V155hVdeMY5svby8SqX03c3+BiWZXtfW1pbs7KufzSufh7p16xIWFsbKlSv57LPPWLx4MXPnzi10/8HBwSxfvpzOnTszf/581q9ff9P9l/SzVVyVugUOcEenRvh41uGj1YdI147g/RrEb4LY380OrWq6tsydxQls7Etc5i4yMjK3HxmMw91mzZrRrl07oqKiOHLkCADfffcdffr0ueH5bm5uHDhwgOzsbH788cfc5QVNI1vU7Rbk2LFjtGjRgueee4577rmH8PBbO+9yfXy3OuVs7969ee+99+jdu3fuvOS+vr43zI1+s2l1y1vv3r1ZtGgRVquV+Ph4NmzYQFBQUIm3e+UfTHZ2NqdOnWLHjh0AnDt3juzsbIYPH86bb77J7t27gcLfk5SUFNzd3cnMzGThwoW5y8vqs1VclT6BK6X45x3tiE1KZ+H2k8aQwpotIWwq6JJViRH56L8aWj0ODq7Q7Vto8Yhxu+eiwp9bgNTUVMaNG5dbZzIiIoI33ngDR0dH5s2bx8iRI/H29sbGxoYnn3zyhufPmDGDoUOH0r9/f9zd3XOXP/jgg8yaNQs/Pz+OHj2au7yo2y3IokWL6NSpE76+vhw8eJC//e1vt/S6r5/m9lannO3VqxdxcXF069YNNzc3HB0d8+0+qV+/Pj169KBTp065JzFLi5eXF//4xz+YP38+np6ehfZf33///fj4+NC5c2f69+/PzJkzadSoUYnj6NGjB82bN8fb25tJkybRpUsXAGJiYujbty++vr4EBwfzzjvvAEYL+8knnyxwaOObb75J165dGThwIO3atctdXlafreIq9nSyJVHc6WSL46E524mIS+avyX2pdXqJMUKi+0LwGlMm+6tKZDpZISqOUp1OtrKYPLgt5y9mMGfjcWj2oHGyLfxVsGaYHZoQQpSJKpPAOzdx4c5OjZiz8RjnLmYa082mHoNj35gdmhBClIkqk8ABXhzUlrRMK5+tOwKN7wTXXrB3GmRdNDu0Cq88u9KEEPkr7vewSiXwVg1rMtK/CQu3nSQ6MQ1834H008bQQlEgR0dHEhISJIkLYSKtNQkJCTe9ovV6lXoceH6eH9CaH0Nj+GjNYd4b2QMaD4WId6HVE+Bw44UQAjw9PYmOjqa4RaeFEKXL0dEx98reoqhyCbyxixN/u60Zczcf5/HeLWjTeTr87gsHZoJvqVd9qxLs7OxK/co3IUTZq1JdKFc83a8VNexteW9lJNT1Aa+xEPkxXIoxOzQhhCg1VTKB13O25/HeLVgVcYY9Jy+Az79BW0s0Y54QQlQ0VTKBAzzSszn1ne1594+DaOfm0PJxODoHkg8X/mQhhKgEqmwCd3aw5Zn+rdh27DwbD5+DTv8CGwfY+5rZoQkhRKmosgkcYEzXpni4ODFz5UGyHdyg3Qtw4n9wvmiTBAkhREVWaAJXSjVRSq1TSh1QSu1XSj2fs/wNpVSMUio052dI2YdbPA62Fv4xsA37YpL5fd9paD8Z7OtB2MtmhyaEECVWlBZ4FvCi1ro9cBswUSnVIeexD7XWvjk/ZV+d9Rbc5+dBG7eavLcqkkxLLeg4FeL+MKrJCCFEJVZoAtdax2mtd+fcTgEOAB5lHVhpsdgoJg1qy/FzF1m6KxpaTwQnDwidCnLloRCiEitWH7hSygvwA7bnLHpGKRWulJqrlKpb2sGVloEd3PBr6sJHaw6Rru3B+3VI2AYxv5gdmhBC3LIiJ3ClVE3gB+DvWutk4AugJeALxAHvF/C8x5VSIUqpELMu1b5S9OFM8mUWbImCFuOhVhujLzzbakpMQghRUkVK4EopO4zkvVBrvQxAa31Ga23VWmcDXwP51kPSWs/WWgdorQNcXV1LK+5iu61Fffq0ceXz9UdJuqyh81uQtB+iFhb+ZCGEqICKMgpFAd8AB7TWH1yz3P2a1e4H9pV+eKVr8uC2JKVl8vWGY9BkONTtYowLt142OzQhhCi2orTAewAPA/2vGzI4Uym1VykVDvQDXijLQEtDJ486DPVx55tNxzmbmmFMN3vxBByZbXZoQghRbIXORqi13gSofB6qkMMGC/PioLb8vu80n649wrR7BoJbP2OOlBbBYFfL7PCEEKLIqvSVmPlp3sCZUYFN+H7HSU6eTzNKr12Oh4MfmR2aEEIUS7VL4ADP394aG6X4cM0haNAVPO+HA7Mg/ZzZoQkhRJFVywTuVtuR4B5eLA+N4UBcsjEixXoRIt4xOzQhhCiyapnAAZ7q05KaDjlFH+p0gOZ/g0OfwcVTZocmhBBFUm0TuEsNe57s05I/D54lJOo8eL8BaNj3b7NDE0KIIqm2CRxgfA8vXGs5GEUfajSF1k/DsXmQdNDs0IQQolDVOoHXsLfludtbszPqAusj46Hjy2CpAeH/Mjs0IYQoVLVO4ACjAprQtF4N3v3jINn2DaDdi3DqB0jYaXZoQghxU9U+gdvb2vDioDYcPJ3CL+Gx0P4f4NBAij4IISq8ap/AAe72aUy7RrV4f9UhMlRN6PgKnF5j/AghRAUlCRywsTGmmz15/hKLQk5B6yehRlMIfVmKPgghKixJ4Dn6tnUl0Ksun/x5mEtWW2NY4fmdEP2j2aEJIUS+JIHnUErx0h3tiE+5zLzNUdD8YajdHsJegewss8MTQogbSAK/RqBXPW5v15Cv/jpKUrqGztMh+SAc/9bs0IQQ4gaSwK8zaXBbUi5n8cVfR8HzPqgfBHtfB2u62aEJIUQeksCv0969Nvf5ejBv83FOJ18G3xlwKRoOfW52aEIIkYck8Hy8MKAN1mzNJ2sPGwUfGg2EiLchM9ns0IQQIpck8Hw0rV+DMV2bsmjnKY6fuwid34bLCfBzK0g7DWfWwW/exm0hhDCJJPACPNO/FfYWGz5YfQiyUkBZjMo9m0bC+qHGyc19b5odphCiGpMEXoCGtRx5pGdzfgmLJX3rxKsPnNsG1kugs+DkEvMCFEJUe5LAb+Kx3i2o42THS+ffg4Z9QNkaiRvA4gSBcmJTCGEeSeA3UcfJjqf7tiQ+Jgxr/NaryRtAW+H0WvOCE0JUe5LACzGuuxdvNpmNtmYYC2zsjd/ZGXBqqXmBCSGqvUITuFKqiVJqnVLqgFJqv1Lq+Zzl9ZRSq5VSh3N+1y37cMufo52FvW2W8H8JgzmfVYenj/+DYxlN0ZBThk0IIcxRlBZ4FvCi1ro9cBswUSnVAZgC/Km1bg38mXO/StIObrwe+zRdIhayIqkn9x6axenMBiSHfyRXaAohTFNoAtdax2mtd+fcTgEOAB7AvcCCnNUWAPeVUYyme3/1Ya6dVDYl25kpp56ldsZh2CtFkIUQ5ihWH7hSygvwA7YDblrrODCSPNCwgOc8rpQKUUqFxMfHlzBcc8Qmpt2w7K9UfxadHwgHZkr5NSGEKYqcwJVSNYEfgL9rrYt8TbnWerbWOkBrHeDq6norMZqusYtTvsvnXnwGHN1h23iwXi7nqIQQ1V2RErhSyg4jeS/UWi/LWXxGKeWe87g7cLZsQjTf5MFtcbKz5Flmb7HhqUH+EDQbkvbLVZlCiHJXlFEoCvgGOKC1/uCah34GxuXcHgf8VPrhVQz3+XnwzjBvPFycUICtjcLRTtGvXUPwGALNx0HEDDi/y+xQhRDViNKF1HxUSvUENgJ7geycxS9j9IMvBpoCJ4GRWuvzN9tWQECADgkJKWnMpgs7lcj9n29mhL8nM0d0howL8FtHo5r94BCw2JsdohCiClFK7dJaB1y/vCijUDZprZXW2kdr7Zvzs0JrnaC1vl1r3Trn902Td1XSuYkLT/RpyeKQaNZHngX7uhD4FSTuhf3TzQ5PCFFNyJWYt+j521vTqmFNpi7bS3J6JnjeDV4Pwf634UKo2eEJIaoBSeC3yNHOwqwRPpxJTuedFQeMhf4fg0N92BoM2ZmmxieEqPokgZeAX9O6PNarBd/vOMWGQ/HgUA+CvoLEMNj/jtnhCSGqOEngJfTCwDa0cHVm6rK9pKRngue90Gy0MazwQpjZ4QkhqjBJ4CVkdKV0JjYpjXd+P2gs9P/EaI1vGy9dKUKIMiMJvBT4N6vLIz2a83/bT7L5yDlwbACBX8CFPRAx0+zwhBBVlCTwUvLioLY0b+DMS0vDSb2cBU2GQdMHYN+/IXGf2eEJIaogSeClxMnewswRPsQmpfHula6UgE/Brg5sC4bsrJs+XwghiksSeCkK9KpHcHcvvtt2gq1HE8DR1aibeX4XHJhldnhCiCpGEngpmzy4Lc3q1+ClH8K4lJEFTUdCkxGw9w1IijA7PCFEFSIJvJTVsLdl5nAfTp1PY+YfkcbCwM/ArlbOqBTpShFClA5J4GWga4v6BHf3Yv6WKLYfSwDHhuD/KSTsgIMfFL4BIYQoAkngZeSlO9rSpJ4TL/0QTlqGFZqNAs/7Ifw1SDpodnhCiCpAEngZqWFvy7vDfTiRcIlZKyNBKeOEpq1zTleK1ewQhRCVnCTwMtS9ZQMevq0Z87YcJyTqPDg1Mq7STNgGkR+ZHZ4QopKTBF7GptzZDg8XJyYvDSc90wpeY8DjHgj/FyQfMjs8IUQlJgm8jDk7GF0px89d5P1VOV0pQV+CjSNsnyBdKUKIWyYJvBz0aNWAMV2bMmfTcXaduABO7sbc4fGb4dB/zA5PCFFJSQIvJ1PvbEfjOk5MXhpmdKU0fxga3wVhL0PKEbPDE0JUQpLAy0ktRzveGebNsfiLfLjmUE5XyldgYw/bJoDOLnwjQghxDUng5ah3G1ceDGzC1xuOsefkBajhAV0+hPiNcOgzs8MTQlQyksDL2ct3tcettuPVUSktgsH9DgidAilHzQ5PCFGJSAIvZ7VzulKOnE3lkz8P53SlzAYbW9j+iHSlCCGKrNAErpSaq5Q6q5Tad82yN5RSMUqp0JyfIWUbZtXSt21DRvp78uVfRwk7lQjOTaDLB3D2Lzj8pdnhCSEqiaK0wOcDd+Sz/EOttW/Oz4rSDavq+9fQDrjWcmDy0jAuZ1mhxQRoNAhCX4LU42aHJ4SoBApN4FrrDcD5coilWqnjZHSlHDqTyqdrjxhdKV2/Bmxg+6OgtdkhCiEquJL0gT+jlArP6WKpW9BKSqnHlVIhSqmQ+Pj4Euyu6unfzo3hXTz5fP1R9sUkgXNT6PIenFkLR2abHZ4QooK71QT+BdAS8AXigPcLWlFrPVtrHaC1DnB1db3F3VVdrw3tQH1neyYtCSMjKxtaPgZut8OeSXDxhNnhCSEqsFtK4FrrM1prq9Y6G/gaCCrdsKqPOjXsePt+bw6eTuGzdVe6UuYAWrpShBA3dUsJXCnlfs3d+4F9Ba0rCjeggxv3+3nw2boj7I9Ngppe4DcLTq+Bo3PMDk8IUUEVZRjh98BWoK1SKlop9QgwUym1VykVDvQDXijjOKu81+/ugEsNeyYtCSfTmg2tngC3frD7Rbh40uzwhBAVUFFGoYzWWrtrre201p5a62+01g9rrb211j5a63u01nHlEWxV5lLDnun3d+JAXDKfrzsKysboStFW2PG4dKUIIW4gV2JWIIM7NuKezo35dN1hDsQlQ80W4PsuxK2EY/PMDk8IUcFIAq9g3rinI3Wc7Ji8NMzoSmnzNDTsDbv/AZeizQ5PCFGBSAKvYOo52/PmvZ3YF5PMV39d6Ur5BrIzYMcT0pUihMglCbwCutPbnbt83Pn4z8NEnk6BWq2g8zsQuwKOf2t2eEKICkISeAU17Z6O1HI0ulKyrNnQ9llw7Qk7J8Iv7SDtNJxZB795G7eFEBXTtd/TUv7OSgKvoOrXdODNezsRHp3E7I3HjK6Ulo+D9SKkHILNY2D9UEg+CPveNDtcIUR+zqy7+j3dMrbUv7OSwCuwu3zcubNTIz5afZjDZ1LgwEyMP5mGc5vBegl0FpxcYnaoQoj8hDwH2ZeN72n8llL/zkoCr+Cm3dsJZwcLk5aGk9XnD2jYB7AxTmoCWJwg8HNTYxRCFKDnYrBxMG5npxu/S/E7Kwm8gnOt5cC/7+1E2KlEft+yDhK2A9dU7cnOgtNrTYtPCFEAazpsftBodV9LW0vtOysJvBK428edQR3caBv9L/SVlreNo/FbZ8LJReYFJ4S4kc6GreMgMZzcNGtxAht74+j51NJS2Y0k8EpAKcVb93fiydgZLE8ZwgVrHZ4+/nf+vNgHDWBXGzISTY5SCJFrz2Q4uRg6vsoxl4eM7+yx51mWNJjLlnrQs3QaXUqX44UhAQEBOiQkpNz2V9X8a/le/rst78RW/euEM6fZa9g07An9/gCLg0nRCSEAOPgR7H4B2jzDcpt/MvXHfaRlWnMfdrKz8M4wb+7z8yjyJpVSu7TWAdcvlxZ4JbLu4Nkblq1N8uGtc5Pg7HrYNl6q2gthppNLjWkvPO+HLh8xa9WhPMkbIC3TyqyVkaWyO0nglUhsYnq+y+fF9oTOb8OJ7yHs5XKOSggBwNlNsOUhaHAbdF8INhZiE9PyXbWg5cUlCbwSaeziVPDyDlOg1ZMQ8S4c+qycIxOimks6ABvuAedm0PtnsDW+q7WdbPNdvaDvcnFJAq9EJg9ui5OdJc8yi4JJA9sYpdgC/gMed0PIs3DqR5OiFKKaSYuD9XeCjR30+x0cGwDwS1gsSWlZWFTe1Z3sLEwe3LZUdi0JvBK5z8+Dd4Z54+HihAJqO9pi1RBxOtlYwcYWevwP6gfBljEQv9XUeIWo8jJTYP1dcPkc9PnNmMMf2HYsgRcXhxHoVZcZw31yv7MeLk7FPoF5MzIKpRLTWvPGz/tZsPUErw3twISezY0H0uNhVXfIvAADt0DtNuYGKkRVlJ0Jf91t1K7t/TN4DAHg0JkURnyxhYa1HVn6ZDdcatiXeFcyCqUKUkrx2t0dGdzRjTd/i+D3vTmV7RxdjUM5bGDdHZB2xtQ4hahytDZKHcathKCvcpP3meR0gufuwMHOwvzxgaWSvG9GEnglZ7FRfPygH35NXHh+USg7o84bD9RqBX1+hfTT8NddkJlqbqBCVCV734Bj86HT69DyEQBS0jMZN3cHSWmZzAsOxLNujTIPQxJ4FeBoZ+GbcYF4ujjx6IIQjpzNSdYNgqDHIriwBzaPMuZNEUKUzJE5sG8atBgP3q8DkJGVzVP/3c2Rs6l88ZA/nTzqlEsoksCriLrO9iyYEISdRTFu7g7OpuSMGfe8GwI+N6r57HxaSrIJURIxK2Dnk+A+2Og6UQqtNVN+CGfTkXPMGO5D7zau5RaOJPAqpEm9GswNDuTCpQwmzN9J6uWcFnfrJ6DjK3D0a9j3lrlBClFZJYTAppHg0hl6LjGGDQLvrzrEsj0xvDiwDSP8Pcs1pEITuFJqrlLqrFJq3zXL6imlViulDuf8rlu2YYqi8vF04bMxXTgQl8LTC3cble0BfN6E5n+Dva8ZfXdCiKJLPWacS3JsCH1/A7taACzcfoJP1x1hdFATnunfqtzDKkoLfD5wx3XLpgB/aq1bA3/m3BcVRL92DXn7/k5sOBTPy8v2orU2LvQJ+hoaDYDtj0HsSrPDFKJySD9njObKzoS+v4NTIwDWRJzh1eX76N+uIW/e2wmlVCEbKn2FJnCt9Qbg/HWL7wUW5NxeANxXumGJkhoV2JTnb2/Nkl3RfLTmsLHQYg+9foA6HWHTCDi/x9wghajostKMS+QvnjTGetdpB0DoqUSe+X43nTzq8OkYP2wt5vRG3+pe3bTWcQA5vxsWtKJS6nGlVIhSKiQ+Pv4Wdyduxd8HtGakvycf/3mYRTtzpqG1qw19V4B9XVg/BFKjTI1RiAor22pc0XxumzE5VcOeAESdu8gj83fSsJYj34wLpIZ9/vOdlIcy/7ehtZ6ttQ7QWge4upbf2VlhXOjz9jBv+rRx5eUf912djrZGY+NQ0JpuzOFw+foDLCGqOa1h1/MQvRz8P4KmwwFISL1M8LwdZGvN/PGBuNYyd/79W03gZ5RS7gA5v2+cqFpUCHYWGz4f24X27rV4euFuwqMTjQdcOkLv5cbJmQ33GslcCGE48B4c/gzavQhtnwMgLcPKhAUhxCWlM2dcIC1ca5oc5K0n8J+BcTm3xwE/lU44oiw4O9gyNziQ+jXtmTB/JycTcoqsuvWBbt9B/CbY8rAUgxACIOr/IPQlaDoK/GYCkGXN5tnvd7M3OpH/jPbDv1nFGHhXlGGE3wNbgbZKqWil1CPADGCgUuowMDDnvqjAGtZyZP74ILKyNcHzdnDhYk5x5GYPgN/7RpHV3S+aG6QQZjuzDrYFQ8M+0G0BKBtj0rhf9rPmwFneuKcjgzo2MjvKXEUZhTJaa+2utbbTWntqrb/RWidorW/XWrfO+S2dqJVAq4Y1mfO3AKIT03hkwU7Sr5R6avcCtH0eIj+Cgx+aGqMQpkncCxvug1qtofePufVlP19/lP9uO8mTfVryt25epoZ4PbkSs5oJ8KrHx6N82XMqkef/twdrds4Y8S4fQJMRRj2/E4vNDlOI8nUp2hiVZetsnOC3N7pIlu2OZtbKSO7zbcxLpVSEoTRJAq+G7vR257WhHVi5/wzTftmfc6GPDXT/Dlx7wtaH4ewGs8MUonxkJBnJOyPJSN7OTQHYdPgcLy0Np3vL+swc0Rkbm/K/UKcwksCrqfE9mvN47xYs2HqCrzceMxZaHKH3T0ZVkb/uhaQIc4MUoqxZM2Dj/UZNy97LoG5nACJik3nyv7to1bAmXz7sj71txUyVFTMqUS6m3NGOoT7uvL3iID+FxhgLHeoZrRCLI6y7Ey7FmhukEGVFZ8P2CcaJy9vmGtNMADGJaYyfv4NajrbMGx9IbUc7kwMtmCTwaszGRvH+A53p2rwek5aEseXoOeOBml7G1ZoZ541Dy8xkU+MUokyEvQJRC6HzdGj+MABJlzIJnruDSxlW5o8Pwr1O6VSPLyuSwKs5B1sLsx8OoHkDZ574bheRp1OMB+r5Qc+lkLQPNo4wDjWFqCoOfQ4RM6DVE9BhKgCXs6w8/l0IUQkX+ephf9o2qmVykIWTBC6oU8OOeeODqGFvIXjeDuKS0owHGg+GrnPg9GrY8ZgUgxBVw6nlEPIMeNwNAZ+CUmRna15cHMb24+d5b2RnurdsYHaURSIJXADg4eLEvOAgUtKzGD9vJ8npmcYDLYLBexoc/xbCXzM1RiFKLH4rbBkN9QOhx/dgY0xENeOPg/waHseUO9txr6+HyUEWnSRwkatD49p8+ZA/R86m8uR3u8jIyrm0vtO/oOWjsP8tODLb3CCFuFXJh2DD3eDkAX1+McZ8A/M2H2f2hmOM69aMJ3q3MDnI4pEELvLo2boBM0f4sOVoAi8tDbtaDCLwC2g8BHY+BTG/mh2mEMWTdsaYeRMF/f4wKusAf+yLY9qvEQzq4MZrd3c0pShDSUgCFzcY1sWTyYPbsjw0lpkrI42FNrZGhfu6XWDTKOMk0G/ekHbaGIZ15bYQFcWVz2XKMVjTG1KPw20LoJZR+iwk6jzP/y8UvyYufDLaD0sFvFCnMJLARb6e7tuSsV2b8sX6o3y3NcpYaFcT+vxqFIUImQjJB2DLWFg/FJIPwr43TY1ZiFxn1l39XK4MgpRDgA3E/gbAkbOpPPptCB4uTswZF4ijncXceG+RJHCRL6UU0+7txID2brz+835W7c9pXTu55RZ0RVvh3BawXgKdBSeXmBewENcKeQ6yM4zPZUZCzkIrnFzC2ZR0guftwNZGMX98EPWc7U0NtSQkgYsCWWwU/xnth4+nC8/9bw+7T14wHhjwF9T1N25fKQRhcYLAz80JVIjrdf8v2F5XcMHiRLrvf5gwfycJqRnMDQ6kaf0a5sRXSiSBi5tysrfwzbgAGtV25NEFIRw/d9E4LE0+kHdFawacXmNOkEJc68w6WNMPMhPzLNbayubNizkQl8LnY7vg4+liSnilSRK4KFT9mg7MHx+EAsbN3UHWjmeNw1MwWt7YAFY4OhfSpbqeMInOhn1vwdoBYL0IKqdf2+KEtrFHZWfgyxqm39eJfu0KrMNeqUgCF0Xi1cCZb4IDOZuSziMnp5PZ/FFwcIVu30Krx43DVQX87itT0Yrylx5vTL4W/io0Gw13RRiXyed8RsPth5OQVZu19f/Dg0FNzY621ChdjpdHBwQE6JCQkHLbnyh9ayLO8Ph3IbRrVIvEtEziEtNp7OLE5MFtuc8rATaNgNSj4PMWdPinMc+4EGXp7EbY/CBcToCA/xgXnSnF8j0xzFoZSUyiMTVEkFddFj3RrdKN9QZQSu3SWgdcv1y+XaJYBnRwY7i/JxFxKcQmpqMxpt+cumwvy6Pqwx27oOkDEPYyrL8L0s+ZHbKoqnQ27J8Bf/YzrqocvB1aPZabvKcu25ubvAHCY5L4KbRqTY8sCVwU25YjCTcsS8u0MmtlpDHEsPv/GVdunlkLf/hB/GYTohRV2uUE+OtuCJtqlAK8IyS3GAPArJWRpF2p+ZojPTPb+IxWIZLARbHFXtOqyXe5UtD6SRi0FWzsYU0fiJhltJiEKKn4Lca5ltNrIOAzY1Iqu9q5D6dlWPO0vK9V0Ge3spIELoqtsUv+k9y71Liuckm9LnDHbvC8D0JfMsq0XT5f9gGKqklrOPCe0SCwsYdBW6DN00aDIceRs6nc91nBR3wFfXYrK0ngotgmD26L03WXHtsouHApk6nLwkm/9tDVvg70XAL+n8DplfC7H5zbVs4Ri0rv8nnYcC/smQye9xgNg3r+eVb5KTSGez7dRHzqZZ7s0+KGz6iTnYXJFbCyfEnYluTJSqkoIAWwAln5nSUVVc99fsZ8ybNWRhKbmEZjFydeHNiaI/EX+Xz9UUJPJfHZGD9auOZcCacUtH0WGtwGmx6A1b3Abya0/Xue1pMQ+Tq3HTaPgrRY8P8Y2jyb53OTnmnl379E8P2OkwR51eOT0X40quNIu0a183xGJw9um/vZrSpKNIwwJ4EHaK2LNNRAhhFWfesiz/KPRaFkZGUzY7gPd3dunHeFjAuwbTxE/2R0rdw2F+zrmhKrqOC0hsiPje43p8bQYzE0CMqzyvFzF3l64W4OxCXzVN+WvDiwDbaWqtexIMMIRbno17Yhvz3Xi3butXn2+z38a/ne67pU6kKvH6HLB8a84r93gQT5py6uk5EIG4fD7hfA/U64c88NyfvX8Fju/s8m4pLSmBccyD/vaFclk/fNlLQFfhy4AGjgK631DeValFKPA48DNG3a1P/EiRO3vD9ReWRas3lvZSRfbThGx8a1+XxsF5rVd8670rltxtzi6XHg9z60eUa6VITxD33TA3DpFPi+C+1eyPO5uJxl5a1fD/DdthN0aerCp2O6VLmTk9crqAVe0gTeWGsdq5RqCKwGntVaF3gdtXShVD9rIs7w4pIwsrM1M0f4cKe3e94VLp+HreMg9ldjPG/XOcaJT1H9aA2HP4fd/wBHN6OAiGu3PKucSLjIxP/bzb6YZB7r1ZyX7miHXTVodZdJF4rWOjbn91ngRyDo5s8Q1c2ADm789lxPWjSsyVMLd/PGz/u5nHVNl4pDPejzk9HSiv4R/vCH83vMC1iYIzPZOFEZ8gw0GmB0mVyXvP/YF8fQTzZxMuESX/8tgFfu6lAtkvfN3PKrV0o5K6VqXbkNDAL2lVZgourwrFuDJU90Y0KP5szfEsUDX27l1PlLV1dQNtDhJbh9vTG/+KpucPhLo0Umqr4LofC7P5xaBr4zjILDDvVzH87IyuaNn/fz5H9306JhTX57rhcDO7iZF28FUpJ/X27AJqVUGLAD+E1r/UfphCWqGntbG167uwNfPuTPsXMXueuTjVer/FzRsKfR8nLraxRP3jIGMlNMiVeUA63h8Few8jajqtPt62+YAO3U+UuM/HIL87dEMb6HF0ue6EaTepW7CENpktkIRbk7mXCJif+3m70xSTzaszn/vPO6fkydDREzjKlBa7YyLgSq62NewKL0ZabAjifgxPfgPhi6fQeOrnlWWR1xhhcXh6KBWSN8uKOTe/7bqgZkGKGoMJrWr8HSp7oxrlsz5mw6zgNfbc07d4WygY4vQ/+1kJUCq7rCkTnSpVJVJO6FPwLg5CJj2uG+K/Ik70xrNtN/i+Cxb0NoVt+Z357tVa2T981IAhemcLC18O97O/HZmC4cPpPKXZ9sZO3BM3lXcusDd+wB156w4zHY+jfITDUnYFFyWsPRb4wq8ZnJ0P9P6PRKni6T2MQ0Rn21la83Hudv3Zqx9Klulb5uZVmSBC5MdZePO78+25PGdZyYMD+Ed34/QKb1mlkLndyg7x/g/W+IWggrAyFxv3kBi1uTddEYLrr9UWjQA+4MNc51XGPdwbMM+WQjh86k8ukYP6bd2wkHW0u+mxMGSeDCdF4NnFn2dHfGdm3KV38dY/TsbcQlXdOlYmMB79eg/2rIOG8k8WPzTYtXFFPifvgjEKL+C95vQL+Vxj/mHFnWbGb8fpDx83fSuI4Tvzzbk6E+jQvensglCVxUCI52Fqbf783HD/pyIC6Zuz7ZxPrI6wokN7rdaLnV72rMp7LuDvi1I6SdNiqR/+Zt3BbmuvZvsWcKrPCGy2eh/yrwft34h5zjdFI6o7/expd/HWVM16Yse7o7zRs432Tj4loyCkVUOEfjU5m4cDcHT6cwsV9LXhhw3QRF2VlGAo/6r3G/flfjxFh2hlFgOfAzcwIXRvJeP9T4Wzi4GtMkAHiNg+7z86z616F4XlgUSnqmlXeGeXOvb9WaKbA0ySgUUWm0dK3J8ok9eDCwCZ+tO8rYOds5k5x+dQUbW+PiD5XTkkvYbowj1llwcrEpMYscO540LsbSWVeTN0DcitybWTnz5ATP24FrTQd+fqanJO9bJAlcVEiOdhZmDPfhgwc6Ex6dxJCPN7Lp8DWzFvdfBQ37gI1j3icqG9j7Jlw8Wb4BV2dZl+D4d/Dn7ZByCMgmT2qxOEHg5wCcTU5n7JztfLruCA/4N2H5xB60aljTlLCrAkngokIb1sWTn5/pQT1nex6eu50PVx/Cmq0h+aAxm2H2NS1zZWv87H0NfvKCPwfA8YVGghGlS2ujWPX2R2FZI2OI58UoaB5sJGyuGUmkrXB6LZuPnGPIJxsJj07i/ZGdeXeED072MsqkJKQPXFQKlzKyeHX5fn7YHU33lvX5ttEj2KYeMg7VLU5GkrjS7zp4BxxfYIxUuRhlFLxtOgpajDeqAsmUtbfuUjQc/9Z4b1MOg60zNB1pJO6GvWBFZ+Of63V/l0uqLh3Dv6OVa00+H9uF1m61zH4llUqZTCdbXJLARUktDjnFaz/tw8s5hbdbL6f5pRW8Ev0UA+rt5y6XzTj0XQpu/YyVdTac3QDH5sHJpUY/ee22RrJp/jDUkH7XIslKMyooHZsHp1cDGhr2Nv4hNhkBdtd0gaSd5ti6f1I34SdeiX6K2+vu53bnDTwV9U/c297JW/d1ooZ9iSo5VkuSwEWVEXk6hYe/2cbZlIw8y53sLLwzzDv/uoeZKXByidFyjN9o9JU3GgQtgsHzXrA43vic6kxrSNhhvF8nvofMJKjRFFqMg+bjoFbLfJ+2fE8MU5ftJe3aKkzAg4FNeGeYN0qOfm5JQQlc/hWKSqdto1pYbG48fZOWaWXWysj8E7hdLWg5wfhJOQLHFhjdLJsfBDsX8BpttCjrBVTvLpa0OOOE5LH5kHzA6AZpMtz4R+fWL89l7/mZtTLyhuQNsPHwOUneZUASuKiUTiel57s8JjGNmMQ0PG5WYqtWK+j8pnFV4Nl1cHSe0T1w+Auo09FIVl4PgVOjMom9wrFehphfjPcg7g+j66lBdwiaDU0fKFKFpLQMK3/sj8s7Kdk1YgtYLkpGEriolBq7OBWYLHq+u5YeLRswwt+TwR0bFTzSwcZiVH9pNAAykozZ8Y7Nhz2TIXSKUUy35XhoPBQs9mX3YsygNVzYYyTtqP8zpihw8oD2/zS6SWq3LcImNLtOXGDprmh+DY8j9XIWFhtljBK6TlWvWWkW6QMXlVJ+fa1OdhYmDW5DarqVpbtPcep8GrUcbBnauTEj/D3p0tSlaIfxSQeN7pXj30JarFEdptlYo2Vez6/sXlR5SD9rTAp2bJ5x9aqNA3jeZ3QfNRqQ5zL3gsQlpbFsdww/7Irm2LmL1LC3cJe3OyP8PYlNTOPlH/fd8Hcp8NyEKBI5iSmqnOV7Ypi1MpLYxDQauzgxeXDb3CSRna3ZEXWeJSHRrNgbR1qmlRauzozw92SYnyeN6hThpGV2ljHq4th8iF5uDFN06ZzTxTL2hgIEFVZ2JsT8BsfnG791FtQPMl5HswfBvm6hm0jPtLIq4gxLd0Wz6XA82Rq6Nq/HCH9Phni74+xw9WD+Zn8XcWskgYtqK/VyFiv2xrE0JJodUeexUdCrtSsjAzwZ0N4NR7siXExy+Tyc+J/Rcj0fYlww5DHUaLlanIxK6v1XGyf+Qp4zbpd3H/qZdVf3nXwAtj9unHiMXg6X441K780fNoZRunQsdHNaa8Kik1gScopfwmJJTs/Cw8WJ4f6eDO/iQbP6MulUeZEELgQQde4iP+yO5odd0cQmpVPHyY57crpYfDzrFK2LJXGf0SqP+s7okgBAQV1fSDoAOhM87jMKNZeX8yGw+0Vj384tIPUIoI24mgwzWtvudxjzyBTibHI6P+6JYemuaA6fTcXRzoY7O7kz0t+T21rUx8ZGRpOUN0ngQlwjO1uz5WgCS3ed4vd9p7mclU0bt5qM8PfkPj8PGtYqShdLJvzcCi6dwkiWFZB9fRhxrtDVLmdZ+fPAWZbuiuavQ/FYszX+zeoy0t+TIT7u1Ha0K4dgRUEkgQtRgOT0TH4Ni2PprlPsPpmIxUbRr60rI/w96d/ODXvbm4x9TouDLQ/Bua1gzRkVY2MP7V40SsGVl8vn4eAsSI6E7MvGMosTdPsWmo7I9ylaa/bHJrN0VzTLQ2NIvJRJo9qODOviwQh/T1q4yiRTFYVcyCNEAWo72jGma1PGdG3KkbOp/LA7mmW7o1lz4Cx1a9hxr68HIwM86dg4n/HQVybVsl43pDEjETyGlEv8gNH/nXLkavKG3Emkrk/g51Ivszyni+Tg6RTsbW0Y3LERI/w96dmqARbpIqk0pAUuRD6s2ZqNh+NZsiua1fvPkGHNpr17bUb6e3Kvb2Pq13QwVvzNO9/Jm3BwheFnb76T0lRIHJnWbNYdPMuSXdGsO3iWrGxN5yYujPD35B6fxtSpIV0kFVmZdKEope4APgYswByt9YybrS8JXFRGiZcy+CUslqW7ogmLTsLOoujfriEj/JvQt6mVUxum5k7elO+kWuXhukmkrsRx2nsB3x5rwfI9MSRczMC1lgPD/DwY7u9JG5kRsNIo9QSulLIAh4CBQDSwExittY4o6DmSwEVlF3k6JaeLJYZzqZep6WAhLTM7z9WHZly4kt+FTUoZF1zaWRQD2rsxMsCT3q1d85anE5VCWSTwbsAbWuvBOfenAmit3ynoOZLARVWRac1mw6F4Jv7fbtIzs2943NZGlWtx3uPnLpKVzyXsdZxsWT+pH3Wdq9hUANVMWZzE9ABOXXM/Guiaz44fBx4HaNq0aQl2J0TFYWex4fb2blzOJ3kDZGVrWruV3yiOw2dT812enJYlybsKK0kCz+9U9Q1NAK31bGA2GC3wEuxPiAqnoEm1PFyc+Hysf7nF0WPG2nzjkEmkqraSdIZFA02uue8JxJYsHCEql8mD2+J03aX4TnYWJg8ufDa/qhiHKF8laYHvBForpZoDMcCDwJhSiUqISuLKiUqzJ2+qKHGI8lXSYYRDgI8whhHO1VpPv9n6chJTCCGKr0yuxNRarwBWlGQbQgghbo0MCBVCiEpKErgQQlRSksCFEKKSkgQuhBCVVLnORqiUigdOlNsOy0YDoPAZ8qsPeT+ukvciL3k/8irJ+9FMa31DEdZyTeBVgVIqJL/hPNWVvB9XyXuRl7wfeZXF+yFdKEIIUUlJAhdCiEpKEnjxzTY7gApG3o+r5L3IS96PvEr9/ZA+cCGEqKSkBS6EEJWUJHAhhKikJIGXgFJqklJKK6UamB2LWZRSs5RSB5VS4UqpH5VSLmbHZAal1B1KqUil1BGl1BSz4zGLUqqJUmqdUuqAUmq/Uup5s2OqCJRSFqXUHqXUr6W5XUngt0gp1QSjoPNJs2Mx2Wqgk9baB6PI9VST4yl3OQW+PwPuBDoAo5VSHcyNyjRZwIta6/bAbcDEavxeXOt54EBpb1QS+K37EHiJfMrIVSda61Va66ycu9swKjNVN0HAEa31Ma11BvA/4F6TYzKF1jpOa70753YKRtKq1lUllFKewF3AnNLetiTwW6CUugeI0VqHmR1LBTMB+N3sIEyQX4Hvap20AJRSXoAfsN3kUMz2EUZjL/8K2CVQooIOVZlSag3QKJ+HXgFeBgaVb0Tmudl7obX+KWedVzAOnxeWZ2wVRJEKfFcnSqmawA/A37XWyWbHYxal1FDgrNZ6l1Kqb2lvXxJ4AbTWA/JbrpTyBpoDYUopMLoMdiulgrTWp8sxxHJT0HtxhVJqHDAUuF1XzwsLpMD3NZRSdhjJe6HWepnZ8ZisB3BPTvlJR6C2Uuq/WuuHSmPjciFPCSmlooAArXW1nHVNKXUH8AHQR2sdb3Y8ZlBK2WKcwL0do8D3TmCM1nq/qYGZQBmtmgXAea31300Op0LJaYFP0loPLa1tSh+4KKlPgVrAaqVUqFLqS7MDKm85J3GfAVZinLRbXB2Td44ewMNA/5zPQ2hO61OUAWmBCyFEJSUtcCGEqKQkgQshRCUlCVwIISopSeBCCFFJSQIXQohKShK4EEJUUpLAhRCikvp/U12VzJOCmRQAAAAASUVORK5CYII=",
      "text/plain": [
       "<Figure size 432x288 with 1 Axes>"
      ]
     },
     "metadata": {
      "needs_background": "light"
     },
     "output_type": "display_data"
    }
   ],
   "source": [
    "n = 10\n",
    "M = SecondDerMatrix(n)\n",
    "b = [x**2 - x for x in range(-5,5)]\n",
    "x = spsolve(M, b)\n",
    "print(f'The solution to b is: {x}. \\nAnd checking the answer (M @ x - b = 0) with a test gives {np.allclose(M.dot(x), b)}. So the solution is correct.')\n",
    "plt.plot(range(-5,5), b, marker = 'o', label = 'Exact answer')\n",
    "plt.plot(range(-5,5), (M @ x)+1, c = 'orange', marker = 'X', label = 'Solution shifter with +1 for illustration')\n",
    "plt.legend()\n",
    "plt.show()"
   ]
  },
  {
   "cell_type": "markdown",
   "id": "3c6b937a-a06a-4d24-ae49-d036ef88ba03",
   "metadata": {},
   "source": [
    "## (c) (2 pts)\n",
    "\n",
    "Defining $\\vec y = \\begin{bmatrix} y_1 \\\\ \\vdots \\\\ y_n \\end{bmatrix}$ and \n",
    "$E(\\vec y) = \\begin{bmatrix} \\exp(y_1) \\\\ \\vdots \\\\ \\exp(y_n) \\end{bmatrix}$, the equations (3) can be written in the form\n",
    "\n",
    "$$ F(\\vec y) := {\\bf M} \\cdot \\vec y + E(\\vec y) = \\vec 0. $$\n",
    "\n",
    "Finish the function `F` that defines $F(\\vec y) = {\\bf M} \\cdot \\vec y + E(\\vec y)$.\n",
    "Finish the function `JacobianF` that computes the Jacobian ${\\bf J}_F(\\vec y)$ of $F(\\vec y)$.\n",
    "To get full points for this part of the exercise, the Jacobian must be computed in the form of a sparse matrix."
   ]
  },
  {
   "cell_type": "code",
   "execution_count": 13,
   "id": "f693cfc3-9639-419a-b8f8-5179c3e60123",
   "metadata": {},
   "outputs": [],
   "source": [
    "import sympy as sp\n",
    "\n",
    "def F(y):\n",
<<<<<<< HEAD
    "    M = SecondDerMatrix(y)\n",
    "    y_vector = [y for _ in range(y)]\n",
    "    E_y = np.exp(y_vector)\n",
    "    F_y = M @ y_vector + np.exp(y)\n",
    "    return F_y\n",
    "    \n",
    "def JacobianF(y):\n",
    "    n = len(y)\n",
    "    j1 = SecondDerMatrix(n)\n",
    "    #diag_j = y\n",
    "    j2 = diags([y], [0])\n",
    "    return j1 + j2\n",
    "\n",
    "F_y = F(100)\n",
    "jac_f = JacobianF(F_y)"
=======
    "    M = SecondDerMatrix(len(y))\n",
    "    E_y = np.array([np.exp(ey) for ey in y])\n",
    "\n",
    "    return np.diag(M @ y) + E_y\n",
    "    \n",
    "def JacobianF(y):\n",
    "    pass"
>>>>>>> 853890f97161538925f6f230949fe45964ede70e
   ]
  },
  {
   "cell_type": "markdown",
   "id": "8da07053-496c-4e60-a278-422c113ff702",
   "metadata": {},
   "source": [
    "## (d)  (3 pts)\n",
    "1. Write down the first order Taylor expansion $T_F(\\vec y, \\vec s)$ for $F(\\vec y+\\vec s)$.\n",
    "2. In order to check your implementation of the Jacobian matrix, compute and print both $F(\\vec y+\\vec s)$ and its first order Taylor approximation $T_F(\\vec y, \\vec s)$ for a choice $\\vec y$ and $\\vec s$.\n",
    "3. Verify numerically that the error $||F(\\vec y + \\vec s) - T_F(\\vec y, \\vec s)||_2$ is $\\mathcal O(||\\vec s||_2^2)$. Hint: take vectors $\\vec s$ with $\\|\\vec s\\|_2 = \\mathcal O(h)$  for multiple values for $h$, e.g. $h = 10^{-k}$ for a range of $k$. "
   ]
  },
  {
   "cell_type": "markdown",
   "id": "48d3fd40-cff8-40b6-8e6e-5aa2a48fd4e0",
   "metadata": {},
   "source": [
    "Subquestion 1.\n",
    "\n",
    "YOUR ANSWER HERE"
   ]
  },
  {
   "cell_type": "code",
   "execution_count": 23,
   "id": "bb9cb01a-1fca-400f-b860-c4efaceada23",
   "metadata": {},
   "outputs": [
    {
     "name": "stdout",
     "output_type": "stream",
     "text": [
      "The solution to b is: [4.83399364e-05 4.48895228e-05 4.36583171e-05 4.20369715e-05\n",
      " 4.04157174e-05 3.91681249e-05 3.86678557e-05 3.92886652e-05\n",
      " 4.13874254e-05 4.83605325e-05]. \n",
      "And checking the answer (M @ x - b = 0) with a test gives True. So the solution is correct.\n"
     ]
    },
    {
     "data": {
      "image/png": "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\n",
      "text/plain": [
       "<Figure size 432x288 with 1 Axes>"
      ]
     },
     "metadata": {
      "needs_background": "light"
     },
     "output_type": "display_data"
    }
   ],
   "source": [
    "# Subquestions 2  \n",
    "\n",
    "n = 10\n",
    "F_y = F(n)\n",
    "M = JacobianF(F_y)\n",
    "\n",
    "b = [x**3 - x**2 + 1 for x in np.linspace(0,1,n)]\n",
    "x = spsolve(M, b)\n",
    "print(f'The solution to b is: {x}. \\nAnd checking the answer (M @ x - b = 0) with a test gives {np.allclose(M.dot(x), b)}.\\\n",
    " So the solution is correct.')\n",
    "\n",
    "plt.plot(np.linspace(0,1,n), b, marker = 'o', label = 'Exact answer')\n",
    "plt.plot(np.linspace(0,1,n), ((M @ x) + 0.01).T, c = 'orange', marker = 'X', label = 'Solution shifter with 1 for illustration')\n",
    "plt.legend()\n",
    "plt.show()\n",
    "\n",
    "#Subquestions 3."
   ]
  },
  {
   "cell_type": "markdown",
   "id": "c594be9d-8265-4aa0-aa7d-bd9f30e167aa",
   "metadata": {},
   "source": [
    "## (e) (2 pts)\n",
    "1. Finish the function `NewtonSolve` below to solve the system of equations.\n",
    "2. Take $n=40$, and experiment with your function. Try to find a choice of `y0` such that the method doesn't converge, as well as a choice of `y0` such that the method converges. In your answer, list the types of convergence behavior you found. Show a convergent example (if you found any) and a nonconvergent example (if you found any). Show the solutions you found for each example."
   ]
  },
  {
   "cell_type": "code",
   "execution_count": null,
   "id": "c5adc7dd-783d-4849-b84c-94da20631c9f",
   "metadata": {},
   "outputs": [],
   "source": [
    "# Subquestion 1.\n",
    "def NewtonSolve(y0, K):\n",
    "    \"\"\" Use Newton's method to solve F(y) = 0 with initial guess y0 and K iterations. \"\"\"\n",
    "    y = y0\n",
    "    # YOUR CODE HERE\n",
    "    return y"
   ]
  },
  {
   "cell_type": "code",
   "execution_count": null,
   "id": "9ce50cda-6dcd-4d97-a0d3-2c185ce88875",
   "metadata": {},
   "outputs": [],
   "source": [
    "# Subquestion 2, code part\n",
    "# YOUR CODE HERE"
   ]
  },
  {
   "cell_type": "markdown",
   "id": "441c242a-ec62-4761-b3d5-1aaf00ed3ab2",
   "metadata": {},
   "source": [
    "Subquestion 2, text part YOUR ANSWER HERE"
   ]
  }
 ],
 "metadata": {
  "kernelspec": {
   "display_name": "Python 3 (ipykernel)",
   "language": "python",
   "name": "python3"
  },
  "language_info": {
   "codemirror_mode": {
    "name": "ipython",
    "version": 3
   },
   "file_extension": ".py",
   "mimetype": "text/x-python",
   "name": "python",
   "nbconvert_exporter": "python",
   "pygments_lexer": "ipython3",
   "version": "3.10.6"
  },
  "vscode": {
   "interpreter": {
    "hash": "916dbcbb3f70747c44a77c7bcd40155683ae19c65e1c03b4aa3499c5328201f1"
   }
  }
 },
 "nbformat": 4,
 "nbformat_minor": 5
}
