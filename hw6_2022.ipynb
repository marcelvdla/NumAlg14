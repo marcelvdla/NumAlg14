{
 "cells": [
  {
   "cell_type": "markdown",
   "id": "f5acfaaa-451d-40be-a346-bb3ea0080c6c",
   "metadata": {
    "nbgrader": {
     "grade": false,
     "grade_id": "cell-06d3e5bf55c941ae",
     "locked": true,
     "schema_version": 3,
     "solution": false,
     "task": false
    },
    "tags": []
   },
   "source": [
    "# Homework set 6"
   ]
  },
  {
   "cell_type": "markdown",
   "id": "d27a57bc-1ba5-4454-a9a8-aa40c52cdb14",
   "metadata": {
    "nbgrader": {
     "grade": false,
     "grade_id": "cell-736ff6bc3e0d0696",
     "locked": true,
     "schema_version": 3,
     "solution": false,
     "task": false
    }
   },
   "source": [
    "Before you turn this problem in, make sure everything runs as expected (in the menubar, select Kernel → Restart Kernel and Run All Cells...).\n",
    "\n",
    "Please **submit this Jupyter notebook through Canvas** no later than **Mon Dec. 12, 9:00**. **Submit the notebook file with your answers (as .ipynb file) and a pdf printout. The pdf version can be used by the teachers to provide feedback. A pdf version can be made using the save and export option in the Jupyter Lab file menu.**\n",
    "\n",
    "Homework is in **groups of two**, and you are expected to hand in original work. Work that is copied from another group will not be accepted."
   ]
  },
  {
   "cell_type": "markdown",
   "id": "f837b9e3-1b11-430f-860f-6f92d9bbd3b5",
   "metadata": {
    "nbgrader": {
     "grade": false,
     "grade_id": "cell-b13bc5ed16bce8e0",
     "locked": true,
     "schema_version": 3,
     "solution": false,
     "task": false
    }
   },
   "source": [
    "# Exercise 0\n",
    "Write down the names + student ID of the people in your group."
   ]
  },
  {
   "cell_type": "markdown",
   "id": "bb5b94ac-a716-4799-83e7-b9966f383ef8",
   "metadata": {
    "nbgrader": {
     "grade": true,
     "grade_id": "cell-fd464f55ba436b1c",
     "locked": false,
     "points": 0,
     "schema_version": 3,
     "solution": true,
     "task": false
    }
   },
   "source": [
    "Marcel van de Lagemaat - 10886699 <br>\n",
    "Anton Andersen - 14718758 "
   ]
  },
  {
   "cell_type": "markdown",
   "id": "82801a78-05be-4699-9d16-e748df43c3d0",
   "metadata": {},
   "source": [
    "----------------\n",
    "\n",
    "# Exercise 1 (4.5 points)\n",
    "\n",
    "A bacterial population $P$ grows according to the geometric progression\n",
    "\n",
    "$$P_t = rP_{t-1}$$\n",
    "\n",
    "Where r is the growth rate. The following population counts $P_1 ,\\ldots, P_8$ (in billions) are observed:"
   ]
  },
  {
   "cell_type": "code",
   "execution_count": 149,
   "id": "de680868-28c8-43dd-bfaa-0157ac3f16f7",
   "metadata": {},
   "outputs": [],
   "source": [
    "import numpy as np\n",
    "import matplotlib.pyplot as plt\n",
    "from numpy.linalg import lstsq, norm\n",
    "import sympy as sp\n",
    "x_, y_ = sp.symbols('x y')\n",
    "\n",
    "data = [0.19, 0.36, 0.69, 1.3, 2.5, 4.7, 8.5, 14]"
   ]
  },
  {
   "cell_type": "markdown",
   "id": "bb9c8d5d-b219-47b0-a6b6-f9adbe5cae62",
   "metadata": {},
   "source": [
    "# (a)\n",
    "Read chapter 6.6 on Nonlinear Least squares. Use the Gauss-Newton Method to fit the model function $f(t, x_1, x_2) = x_1\\!\\cdot x_2^t$ to the data. Find estimates for the initial population $P_0=x_1$ and the growth rate $r=x_2$.\n",
    "\n",
    "Plot the observed and modeled data and make a separate plot of the residuals."
   ]
  },
  {
   "cell_type": "code",
   "execution_count": 208,
   "id": "dc225946-bf1c-49a7-acf6-e6a84886d911",
   "metadata": {},
   "outputs": [
    {
     "name": "stdout",
     "output_type": "stream",
     "text": [
      "The result of the optimization is for initial population: 0.19996956283336442 and growth rate 1.7017515552682527\n"
     ]
    },
    {
     "data": {
      "image/png": "[encoded data removed]",
      "text/plain": [
       "<Figure size 432x288 with 1 Axes>"
      ]
     },
     "metadata": {
      "needs_background": "light"
     },
     "output_type": "display_data"
    },
    {
     "name": "stdout",
     "output_type": "stream",
     "text": [
      "The 2-norm of the residuals over the iterations:\n"
     ]
    },
    {
     "data": {
      "image/png": "[encoded data removed]",
      "text/plain": [
       "<Figure size 432x288 with 1 Axes>"
      ]
     },
     "metadata": {
      "needs_background": "light"
     },
     "output_type": "display_data"
    }
   ],
   "source": [
    "# YOUR CODE HERE\n",
    "def gradient(x, r, t):\n",
    "    x_1 = [x_ ** t_ for x_, t_ in zip(x, t)]\n",
    "    x_2 = [x_ * t_ * r ** t_ for x_, t_ in zip(x, t)]\n",
    "    return np.vstack([x_1, x_2])\n",
    "\n",
    "def function(t, x, r):\n",
    "    \"\"\" INPUT: t - time, x_1 - current time population, x_2 - growth rate \n",
    "        OUTPUT: Returns the population value for the following period. \"\"\"\n",
    "    return x * r ** t\n",
    "\n",
    "def gauss_newton(data, x_0, K):\n",
    "    \"\"\" INPUT: data - observed data, x - initial guess for the parameters\n",
    "        OUTPUT:  The estimate for the parameters of the model. \"\"\"\n",
    "    residual_norm = np.zeros([K])\n",
    "    for k in range(K):\n",
    "        model_values = np.array([function(t, x_0[0], x_0[1]) for t in range(1, len(data) + 1)]) # evaluates the model with the parameters\n",
    "        r = -(model_values - data) # calculates the negative of the residual vector\n",
    "        J = gradient(model_values, x_0[1], range(1, len(data) + 1)) # This one also needs the updated values\n",
    "        s = lstsq(np.array(J.T), np.array(r).T, rcond = None)[0] # Then the lstsq solution for the jacobian and the negative of r.\n",
    "        x_0 = x_0 + s # This one updates the parameters\n",
    "        residual_norm[k] = norm(r, 2) # Add the 2-norm to the array.\n",
    "    return x_0, residual_norm\n",
    "\n",
    "initial = np.array([0.2, 1.5])\n",
    "data = [0.19, 0.36, 0.69, 1.3, 2.5, 4.7, 8.5, 14]\n",
    "params, residuals = gauss_newton(np.array(data), initial, 200)\n",
    "print(f'The result of the optimization is for initial population: {params[0]} and growth rate {params[1]}')\n",
    "plt.plot(data, label = 'data', marker='o')\n",
    "plt.plot([function(t, params[0], params[1]) for t in range(1, len(data) + 1)], label = 'model', marker='x')\n",
    "plt.legend(), plt.ylabel('Bacterial population'), plt.xlabel('Time')\n",
    "plt.show()\n",
    "# Then one plot for the residuals\n",
    "print(f'The 2-norm of the residuals over the iterations:')\n",
    "plt.plot(residuals, label = 'Residuals of the model fit (2-norm)', marker='o', markersize = 3)\n",
    "plt.ylabel('2-Norm'), plt.xlabel('Iteration')\n",
    "plt.legend()\n",
    "plt.show()"
   ]
  },
  {
   "cell_type": "markdown",
   "id": "94f03697-691e-4dfe-ace5-1ec18a344377",
   "metadata": {},
   "source": [
    "# (b) \n",
    "Let $f$ be a vector valued function $f = [ f_1, \\ldots, f_m ]^T$. In weighted least squares one aims to minimize the objective function\n",
    "$$\n",
    "  \\phi(x) = \\frac{1}{2} \\sum_{i=1}^m W_{ii} ( f_i(x) - y_i) ^2 , \\qquad\n",
    "  W_{ii} = \\frac{1}{\\sigma_i^2} , \n",
    "$$\n",
    "where $\\sigma_i$ is an estimate of the standard deviation in the data point $y_i$. This is equivalent to the standard least squares problem \n",
    "$$\n",
    "\\min_x \\frac{1}{2} \\| F(x) - Y \\|^2\n",
    "$$\n",
    "with $F(x) = T f(x)$  , $Y = T y$, where $T$ is the diagonal matrix with $\\frac{1}{\\sigma_i}$ on the diagonal. Assume that for each data point $y_i$ in the list above, the estimate for the standard deviation is given by\n",
    "$$\n",
    "  \\sigma_i = 0.05 y_i .\n",
    "$$ \n",
    "Perform a weighted least squares fit to obtain estimates for $P_0 = x_1$ and $r = x_2$.\n",
    "Plot the observed and modeled data and make a separate plot of the residuals.\n",
    "\n",
    "Are the results different from those of part (a)? Discuss and explain the differences.\n"
   ]
  },
  {
   "cell_type": "code",
   "execution_count": 207,
   "id": "8674aaf7-083e-4c91-829c-d9d57a6a21d8",
   "metadata": {},
   "outputs": [
    {
     "name": "stdout",
     "output_type": "stream",
     "text": [
      "The result of the optimization is for initial population: 0.1997771498035301 and growth rate 1.6822474515446153\n"
     ]
    },
    {
     "data": {
      "image/png": "[encoded data removed]",
      "text/plain": [
       "<Figure size 432x288 with 1 Axes>"
      ]
     },
     "metadata": {
      "needs_background": "light"
     },
     "output_type": "display_data"
    },
    {
     "name": "stdout",
     "output_type": "stream",
     "text": [
      "The 2-norm of the residuals over the iterations:\n"
     ]
    },
    {
     "data": {
      "image/png": "[encoded data removed]",
      "text/plain": [
       "<Figure size 432x288 with 1 Axes>"
      ]
     },
     "metadata": {
      "needs_background": "light"
     },
     "output_type": "display_data"
    }
   ],
   "source": [
    "def weighted_gauss_newton(data, x_0, K):\n",
    "    \"\"\" INPUT: data - observed data, x - initial guess for the parameters\n",
    "        OUTPUT:  The weighted estimate for the parameters of the model. \"\"\"\n",
    "    residual_norm = np.zeros([K])\n",
    "    w = 1 / ((0.05 * data) ** 2)\n",
    "    for k in range(K):\n",
    "        model_values = np.array([function(t, x_0[0], x_0[1]) for t in range(1, len(data) + 1)]) # evaluates the model with the parameters\n",
    "        r = - (model_values - data) # calcualtes the negative of the residual vector\n",
    "        J = gradient(model_values, x_0[1], range(1, len(data) + 1)) # This one also needs the updated values\n",
    "        s = lstsq(np.array(J.T), np.array(w * r).T, rcond = None)[0] # Then the lstsq solution for the jacobian and the negative of r.\n",
    "        x_0 = x_0 + s # This one updates the parameters\n",
    "        residual_norm[k] = norm(r, 2) # Add the 2-norm to the array.\n",
    "\n",
    "    return x_0, residual_norm\n",
    "\n",
    "initial = np.array([0.2, 1.5])\n",
    "data = [0.19, 0.36, 0.69, 1.3, 2.5, 4.7, 8.5, 14]\n",
    "params_w, residuals_w = weighted_gauss_newton(np.array(data), initial, 500)\n",
    "print(f'The result of the optimization is for initial population: {params_w[0]} and growth rate {params_w[1]}')\n",
    "plt.plot(data, label = 'data', marker='o')\n",
    "plt.plot([function(t, params_w[0], params_w[1]) for t in range(1, len(data) + 1)], label = 'model', marker='x')\n",
    "plt.legend(), plt.ylabel('Bacterial population'), plt.xlabel('Time')\n",
    "plt.show()\n",
    "# Then one plot for the residuals\n",
    "print(f'The 2-norm of the residuals over the iterations:')\n",
    "plt.plot(residuals_w, label = 'Residuals of the model fit (2-norm)', marker='o', markersize = 3)\n",
    "plt.ylabel('2-Norm'), plt.xlabel('Iteration')\n",
    "plt.legend()\n",
    "plt.show()"
   ]
  },
  {
   "cell_type": "markdown",
   "id": "2fe9e6f1-cf8b-492d-8cd0-0a9ddac3d0c8",
   "metadata": {},
   "source": [
    "Your answer here"
   ]
  },
  {
   "cell_type": "markdown",
   "id": "6096efba-4248-47a2-b7dd-23775ea2d60c",
   "metadata": {},
   "source": [
    "----------------------\n",
    "# Exercise 2 (4.5 points)\n",
    "\n"
   ]
  },
  {
   "cell_type": "markdown",
   "id": "322d207e-794a-4cee-97a1-23df1e38a3b4",
   "metadata": {},
   "source": [
    "# (a) \n",
    "Let $f(x) = 1/x^2$ and $a=10^{-3}$ and $b=1$. Make a plot of the graph of $f$ on $[a,b]$. "
   ]
  },
  {
   "cell_type": "code",
   "execution_count": 179,
   "id": "2f997fc9-e6e3-4ee1-976e-10acb57b836d",
   "metadata": {},
   "outputs": [
    {
     "data": {
      "image/png": "[encoded data removed]",
      "text/plain": [
       "<Figure size 432x288 with 1 Axes>"
      ]
     },
     "metadata": {
      "needs_background": "light"
     },
     "output_type": "display_data"
    }
   ],
   "source": [
    "# Global variable for part (c)\n",
    "xVals = np.array([])\n",
    "\n",
    "# Function f(x)\n",
    "def f(x):\n",
    "    global xVals\n",
    "    xVals = np.append(xVals, x)\n",
    "    return 1 / (x ** 2)\n",
    "\n",
    "# Define a, b, and interval between a and b\n",
    "a, b = 10**-3, 1\n",
    "x = np.linspace(a, b, 100)\n",
    "\n",
    "# Plot f(x)\n",
    "fig, ax = plt.subplots()\n",
    "ax.semilogy(x, f(x))\n",
    "ax.set_xlabel('x')\n",
    "ax.set_ylabel('f(x)')\n",
    "plt.show()"
   ]
  },
  {
   "cell_type": "markdown",
   "id": "3f19c170-f64d-43bb-9237-66a65c9e6379",
   "metadata": {},
   "source": [
    "# (b) \n",
    "Use scipy.integrate.quad to compute $\\int_a^b f(x) \\, dx$ with an absolute error less than 1e-4. Compare with the true value of the integral."
   ]
  },
  {
   "cell_type": "code",
   "execution_count": 180,
   "id": "89258a76-dafc-44be-b138-2ce7b7ff3fd4",
   "metadata": {},
   "outputs": [
    {
     "data": {
      "text/latex": [
       "$\\int_a^b f(x) \\, dx = 999.0000000000119$"
      ],
      "text/plain": [
       "<IPython.core.display.Latex object>"
      ]
     },
     "metadata": {},
     "output_type": "display_data"
    }
   ],
   "source": [
    "from scipy.integrate import quad\n",
    "from IPython.display import display, Latex\n",
    "\n",
    "integ = quad(f, a, b, epsabs=1e-4)\n",
    "display(Latex(f'$\\int_a^b f(x) \\, dx = {integ[0]}$'))\n"
   ]
  },
  {
   "cell_type": "markdown",
   "id": "59bbf7d7-5284-41b6-9cb6-dd1a254b9c3d",
   "metadata": {},
   "source": [
    "Where the true value of the integral is:\n",
    "\n",
    "$\\int_{10^{-3}}^1 f(x) \\, dx = [- \\frac{1}{x} + C]_{10^{-3}}^1 = (-\\frac{1}{1} + C) - (\\frac{1}{10^{-3}} + C) = -1 + 1000 = 999$ \n",
    "\n",
    "This means that scipy.integrate.quad introduces numerical error of about $10^{-11}$\n"
   ]
  },
  {
   "cell_type": "markdown",
   "id": "ccb626d8-4c30-4895-9b74-7677af534d9d",
   "metadata": {},
   "source": [
    "# (c)\n",
    "scipy.integrate.quad is an adaptive integration routine (book section 8.3.6), that automatically chooses an appropriate subdivision of the interval in subintervals. Therefore in some parts of the interval $[0,1]$ the function $f$ will be evaluated more often than in other parts. Divide the interval $[0,1]$ into bins $B_i = [h * (i-1), h*i]$, with $h=0.01$. For each bin $B_i$, count the number of times $f(x)$ is evaluated with $x$ in $B_i$. Make a histogram plot of these data. In which region is there a large number of function evaluations? Can you explain this, taking into account how $f$ is defined?\n",
    "\n",
    "Hint: To know for which $x$ the function $f$ is evaluated, you can keep a global array `xVals` in which you store all values of $x$ for which the function $f$ is called. You can use a numpy array and use numpy.append to add new values to `xVals`.\n"
   ]
  },
  {
   "cell_type": "code",
   "execution_count": 181,
   "id": "24842952-1d70-4585-9dd0-841a9a4b9c61",
   "metadata": {},
   "outputs": [
    {
     "data": {
      "image/png": "[encoded data removed]",
      "text/plain": [
       "<Figure size 432x288 with 1 Axes>"
      ]
     },
     "metadata": {
      "needs_background": "light"
     },
     "output_type": "display_data"
    }
   ],
   "source": [
    "# Create the bins \n",
    "bins = np.arange(0, 1.01, 0.01)\n",
    "\n",
    "# Plot histogram \n",
    "fig, ax = plt.subplots()\n",
    "ax.hist(xVals, bins)\n",
    "ax.set_xlabel('Evaluated value for x')\n",
    "ax.set_ylabel('Frequency')\n",
    "plt.show()"
   ]
  },
  {
   "cell_type": "markdown",
   "id": "ee5ee155-8705-490a-9fed-0282e89a7e44",
   "metadata": {},
   "source": [
    "We can see that the function is evaluated significantly more close to $x = 0$. Since this is where the function has its' asymptote, i.e. it is not defined for $x=0$, the function value for $x$ closer to $0$ will give increasingly larger values that impact the total area more than for example around $x=0.5$. Therefore it is necessary to evaluate more points that are close to $0$ in calculating the area, since missing a small interval can mean a big difference in the outcome of calculating the area."
   ]
  }
 ],
 "metadata": {
  "kernelspec": {
   "display_name": "Python 3 (ipykernel)",
   "language": "python",
   "name": "python3"
  },
  "language_info": {
   "codemirror_mode": {
    "name": "ipython",
    "version": 3
   },
   "file_extension": ".py",
   "mimetype": "text/x-python",
   "name": "python",
   "nbconvert_exporter": "python",
   "pygments_lexer": "ipython3",
   "version": "3.9.12"
  },
  "vscode": {
   "interpreter": {
    "hash": "916dbcbb3f70747c44a77c7bcd40155683ae19c65e1c03b4aa3499c5328201f1"
   }
  }
 },
 "nbformat": 4,
 "nbformat_minor": 5
}
