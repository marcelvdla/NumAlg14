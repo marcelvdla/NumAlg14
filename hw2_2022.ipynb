{
 "cells": [
  {
   "cell_type": "markdown",
   "id": "2eb3dc99-7e74-4a77-a6a6-0978b398c7b0",
   "metadata": {
    "nbgrader": {
     "grade": false,
     "grade_id": "cell-06d3e5bf55c941ae",
     "locked": true,
     "schema_version": 3,
     "solution": false,
     "task": false
    }
   },
   "source": [
    "# Homework set 2"
   ]
  },
  {
   "cell_type": "markdown",
   "id": "07b46464-4b8c-48f6-b6bb-5c85792c5081",
   "metadata": {
    "nbgrader": {
     "grade": false,
     "grade_id": "cell-736ff6bc3e0d0696",
     "locked": true,
     "schema_version": 3,
     "solution": false,
     "task": false
    }
   },
   "source": [
    "Please **submit this Jupyter notebook through Canvas** no later than **Mon Nov. 14, 9:00**. **Submit the notebook file with your answers (as .ipynb file) and a pdf printout. The pdf version can be used by the teachers to provide feedback. A pdf version can be made using the save and export option in the Jupyter Lab file menu.**\n",
    "\n",
    "Homework is in **groups of two**, and you are expected to hand in original work. Work that is copied from another group will not be accepted."
   ]
  },
  {
   "cell_type": "markdown",
   "id": "1b87202b-2fd1-4ec7-a28c-9f983e32b623",
   "metadata": {
    "nbgrader": {
     "grade": false,
     "grade_id": "cell-b13bc5ed16bce8e0",
     "locked": true,
     "schema_version": 3,
     "solution": false,
     "task": false
    }
   },
   "source": [
    "# Exercise 0\n",
    "Write down the names + student ID of the people in your group."
   ]
  },
  {
   "cell_type": "markdown",
   "id": "5ddfd8b6-4006-4149-827d-fd3ef7457239",
   "metadata": {},
   "source": [
    "Marcel van de Lagemaat - 10886699 <br>\n",
    "Anton Andersen - 14718758 "
   ]
  },
  {
   "cell_type": "markdown",
   "id": "cea87535-efbc-4a7c-8ff1-dfda608dd0d6",
   "metadata": {
    "nbgrader": {
     "grade": false,
     "grade_id": "cell-b5a7855ecca9f6be",
     "locked": true,
     "schema_version": 3,
     "solution": false,
     "task": false
    }
   },
   "source": [
    "Run the following cell to import some packages, add additional packages yourself when needed."
   ]
  },
  {
   "cell_type": "code",
   "execution_count": 10,
   "id": "563ef9dc-79ef-4b36-a8b5-d64f7a922ba0",
   "metadata": {},
   "outputs": [],
   "source": [
    "import numpy as np\n",
    "import matplotlib.pyplot as plt"
   ]
  },
  {
   "cell_type": "markdown",
   "id": "26a26b9c-d8db-4bdb-a11d-63bddfd889d8",
   "metadata": {},
   "source": [
    "# Exercise 1"
   ]
  },
  {
   "cell_type": "markdown",
   "id": "b74868be-8e8d-4ecc-aae3-b56fcaee7994",
   "metadata": {},
   "source": [
    "## (a) 1 point\n",
    "Let $A$ be the matrix $\\begin{bmatrix} 1 & -1 & \\alpha \\\\ 2 & 2 & 1 \\\\ 0 & \\alpha & -3/2 \\end{bmatrix}$. For which values of $\\alpha$ is $A$ singular?"
   ]
  },
  {
   "cell_type": "markdown",
   "id": "2ec1b49a-bc37-459e-8a51-c384445208f0",
   "metadata": {},
   "source": [
    "Matrix is singular when determinant equals zero: \n",
    "\n",
    "\\begin{align*}\n",
    "det(A) = 0 \\\\\n",
    "1 * \\begin{bmatrix} 2 & 1 \\\\ \\alpha & -3/2 \\end{bmatrix} - -1 * \\begin{bmatrix} 2 & 1 \\\\ 0 & -3/2\\end{bmatrix} + \\alpha \\begin{bmatrix} 2 & 2 \\\\ 0 & \n",
    "\\alpha\\end{bmatrix} = 0 \\\\\n",
    "2 \\alpha^{2} - \\alpha - 6 = 0 \\\\\n",
    "(\\alpha-2)(2\\alpha + 3)=0 \\\\\n",
    "\\alpha = 2 \\vee \\alpha = -\\frac{3}{2}\n",
    "\\end{align*}\n",
    "\n"
   ]
  },
  {
   "cell_type": "markdown",
   "id": "dc9baa5c-c98f-401c-bb2d-2f1a8e55077c",
   "metadata": {},
   "source": [
    "## (b) 1 point\n",
    "For the largest value of $\\alpha$ you found above, find a nonzero vector $b$ such that $Ax = b$ has infinitely many solutions. Explain your answer."
   ]
  },
  {
   "cell_type": "markdown",
   "id": "bfd3120b-8a20-4659-bb2f-bfe6246c66f1",
   "metadata": {},
   "source": [
    "For $\\alpha=2$ the augmented matrix for $Ax=b$ is: <br>\n",
    "\n",
    "$\n",
    "\\begin{bmatrix}\n",
    "1 & -1 & 2  & | & b_1\\\\ \n",
    "2 & 2 & 1 & |  &b_2\\\\ \n",
    "0 & 2 & -3/2 & | & b_3 \n",
    "\\end{bmatrix}\n",
    "\\rightarrow\n",
    "\\begin{bmatrix}\n",
    "1 & -1 & 2  & | & b_1\\\\ \n",
    "0 & 4 & -3 & |  & b_2 - 2 b_1\\\\ \n",
    "0 & 2 & -3/2 & | & b_3 \n",
    "\\end{bmatrix}\n",
    "\\rightarrow\n",
    "\\begin{bmatrix}\n",
    "1 & -1 & 2  & | & b_1\\\\ \n",
    "0 & 4 & -3 & |  & b_2 - 2 b_1\\\\ \n",
    "0 & 0 & 0 & | & b_3 - (b_2 - 2 b_1)/2\n",
    "\\end{bmatrix} \\\\ $ \n",
    "\n",
    "Since rank(A) < n, this means that $Ax=b$ has infinitely many solutions when \n",
    "\\begin{align*}\n",
    "b_3 - (b_2 - 2 b_1)/2 = 0 \\\\\n",
    "b_2 - 2 b_1 = 2b_3\n",
    "\\end{align*}\n",
    "which means that the vector:\n",
    "$b = \n",
    "\\begin{bmatrix} b_1 \\\\ 2b_3 \\\\ 0 \\end{bmatrix}\n",
    "$\n",
    "has infinitely many solutions, for whatever value of $b_3$ you choose. "
   ]
  },
  {
   "cell_type": "markdown",
   "id": "dfdbdbe1-cc0c-438e-bfb6-30f1e855726e",
   "metadata": {},
   "source": [
    "# Exercise 2"
   ]
  },
  {
   "cell_type": "markdown",
   "id": "0cff19ca-5a93-4219-913b-d6a4b21e240d",
   "metadata": {},
   "source": [
    "For solving linear systems such as $Ax = b$, it is unnecessary (and often unstable) to compute the inverse $A^{-1}$. Nonetheless, there can be situations where it is useful to compute $A^{-1}$ explicitly. One way to do so is by using the LU-decomposition of $A$."
   ]
  },
  {
   "cell_type": "markdown",
   "id": "1dcdc8b0-162d-4fb7-808d-0100dce86d90",
   "metadata": {},
   "source": [
    "## (a) 2 points\n",
    "Write an algorithm to compute $A^{-1}$ for a non-singular matrix $A$ using its LU-decomposition. You can use `scipy.linalg.lu` (which returns an LU-decomposition with _partial pivoting_, i.e., with a permutation matrix $P$) and the other `scipy.linalg.lu_*` functions, but not `scipy.linalg.inv` (or other methods for computing matrix inverses directly).\n",
    "\n",
    "(Make sure to import the necessary functions/packages.)"
   ]
  },
  {
   "cell_type": "code",
   "execution_count": 38,
   "id": "8b355f0f-a648-48f4-9f6f-5d27fd10ca2b",
   "metadata": {
    "nbgrader": {
     "cell_type": "code",
     "checksum": "b011ebd554ea10da4a53655bdadd6383",
     "grade": true,
     "grade_id": "cell-6f892d33e776e31f",
     "locked": false,
     "points": 2,
     "schema_version": 3,
     "solution": true,
     "task": false
    }
   },
   "outputs": [],
   "source": [
    "from scipy.linalg import lu_factor, lu_solve\n",
    "\n",
    "def invert(A):\n",
    "    '''invert the matrix A'''\n",
    "    LU, piv = lu_factor(A)\n",
    "    I = np.identity(len(A))\n",
    "    \n",
    "    return lu_solve((LU, piv), I)"
   ]
  },
  {
   "cell_type": "markdown",
   "id": "e0710df6-58f3-42f9-b467-10eb45c38b5e",
   "metadata": {},
   "source": [
    "## (b) 1 point\n",
    "What is the computational complexity of your algorithm, given that the input matrix has size $n \\times n$?\n",
    "Give a short calculation/explanation for your answer."
   ]
  },
  {
   "cell_type": "markdown",
   "id": "f127ab7c-e03f-4bcd-9ba7-56acb94518de",
   "metadata": {
    "nbgrader": {
     "cell_type": "markdown",
     "checksum": "2dd9d0b893218b8e70d7a0a66f09e514",
     "grade": true,
     "grade_id": "cell-a15cf95231b8aa77",
     "locked": false,
     "points": 1,
     "schema_version": 3,
     "solution": true,
     "task": false
    }
   },
   "source": [
    "YOUR ANSWER HERE"
   ]
  },
  {
   "cell_type": "markdown",
   "id": "568578e4-715e-4b37-a8b7-ac2d39648805",
   "metadata": {},
   "source": [
    "# Exercise 3"
   ]
  },
  {
   "cell_type": "markdown",
   "id": "1e33e8dd-7e6b-4dcd-ba6a-ba606c620708",
   "metadata": {},
   "source": [
    "## (a) (2 points) \n",
    "What happens when Gaussian elimination with partial pivoting is used on a matrix of the following form?\n",
    "$$\n",
    "  \\begin{bmatrix}\n",
    "     1 &  0 &  0 &  0 &  1 \\\\\n",
    "    -1 &  1 &  0 &  0 &  1 \\\\\n",
    "    -1 & -1 &  1 &  0 &  1 \\\\\n",
    "    -1 & -1 & -1 &  1 &  1 \\\\\n",
    "    -1 & -1 & -1 & -1 &  1 \n",
    "  \\end{bmatrix}\n",
    "$$\n",
    "Do the entries of the transformed matrix grow? What happens if complete pivoting is used instead? (Note that part (a) does not require a computer.)\n"
   ]
  },
  {
   "cell_type": "markdown",
   "id": "8b94eff9-22b6-4e4e-8029-852543e2a155",
   "metadata": {},
   "source": [
    "YOUR ANSWER HERE"
   ]
  },
  {
   "cell_type": "markdown",
   "id": "3bccc007-74d6-4488-a1bb-0bf038cd8027",
   "metadata": {},
   "source": [
    "## (b) (2 points)\n",
    "Write a method that generates a matrix of the form of part (a) of size $n \\times n$ for any $n$. Use a library routine for Gaussian elimination with partial pivoting to solve various sizes of linear systems of this form, using right-hand-side vectors chosen so that the solution is known. Try for example the case where the true solution is a vector of uniformly distributed random numbers between 0 and 1. How do the error, residual, and condition number behave as the systems become larger? Comment on the stability (see chapter 1) of Gaussian elimination with partial pivoting in this case.\n",
    "\n",
    "N.B. This is an artificially contrived system that does not reflect the behavior of Gaussian elimination in realistic examples."
   ]
  },
  {
   "cell_type": "code",
   "execution_count": 42,
   "id": "3790cc3a-e127-478a-82b8-77947bf693a5",
   "metadata": {},
   "outputs": [
    {
     "name": "stdout",
     "output_type": "stream",
     "text": [
      "N: 10\n",
      "error:  3.8465512862504435e-16\n",
      "residual:  [ 0.0000000e+00  0.0000000e+00  0.0000000e+00  0.0000000e+00\n",
      "  0.0000000e+00 -4.4408921e-16  0.0000000e+00  0.0000000e+00\n",
      "  0.0000000e+00 -4.4408921e-16]\n",
      "cond(A):  10.0\n",
      "N: 20\n",
      "error:  1.2650192675956738e-11\n",
      "residual:  [ 0.00000000e+00  1.11022302e-16  2.22044605e-16  2.22044605e-16\n",
      "  3.33066907e-16 -1.33226763e-15 -1.44328993e-15  1.55431223e-15\n",
      "  1.06581410e-14  2.88657986e-14  7.14983628e-14  4.35207426e-14\n",
      "  2.12274642e-13 -4.34319247e-13  1.03472786e-13 -8.25117752e-13\n",
      " -6.52811138e-13 -2.93365332e-12  1.72777348e-11 -6.50679510e-12]\n",
      "cond(A):  20.0\n",
      "N: 30\n",
      "error:  1.635552111411668e-08\n",
      "residual:  [ 0.00000000e+00 -2.22044605e-16 -1.11022302e-16  4.44089210e-16\n",
      "  2.22044605e-16 -1.77635684e-15  0.00000000e+00 -8.88178420e-16\n",
      " -1.50990331e-14 -1.24344979e-14  1.77635684e-15 -1.51878510e-13\n",
      " -1.42108547e-14  6.83897383e-14  2.13162821e-13  4.08562073e-13\n",
      "  3.15303339e-12  6.44639897e-12  4.02966549e-12  2.33058017e-12\n",
      "  4.15916190e-11 -1.31366917e-10 -1.49233514e-10  2.79335666e-10\n",
      " -5.83870730e-11  2.60134492e-09 -3.62076591e-09 -4.58756588e-10\n",
      "  1.97129246e-09  2.83841342e-08]\n",
      "cond(A):  30.0\n",
      "N: 40\n",
      "error:  5.9857699011928e-06\n",
      "residual:  [ 0.00000000e+00  0.00000000e+00  1.11022302e-16  0.00000000e+00\n",
      "  6.66133815e-16 -4.44089210e-16  0.00000000e+00  3.99680289e-15\n",
      "  7.99360578e-15 -9.32587341e-15  3.81916720e-14 -5.06261699e-14\n",
      "  2.13162821e-14 -7.99360578e-14  1.87405647e-13 -5.61328761e-13\n",
      " -2.27107222e-12  2.35633735e-12 -9.10915787e-12 -7.45536965e-12\n",
      " -2.76028089e-11 -3.20063975e-11 -6.97646385e-11 -2.60747868e-10\n",
      " -2.69839262e-10  6.73843203e-10  6.63927580e-10 -1.80687465e-10\n",
      " -7.57917107e-09  4.40144987e-09  2.40218849e-08 -1.21459571e-08\n",
      "  1.02716150e-07  8.87348861e-08  2.67595652e-08 -5.34014653e-07\n",
      "  7.17583077e-08  1.97156325e-06  5.53516762e-06  1.26283862e-05]\n",
      "cond(A):  40.0\n"
     ]
    }
   ],
   "source": [
    "from numpy.linalg import cond, norm\n",
    "\n",
    "def matrix_gen(n):\n",
    "    ''' Generate a matrix in the form of part (a) '''\n",
    "    m = np.zeros([n,n], dtype=np.float32)\n",
    "    for row in range(n):\n",
    "        for col in range(n):\n",
    "            if row == col or col == n-1:\n",
    "                m[row,col] = 1\n",
    "            elif row > col:\n",
    "                m[row,col] = -1 \n",
    "    return m\n",
    "\n",
    "\n",
    "def solve_sys(N):\n",
    "    ''' Solve system Gaussian elimination with partial pivoting '''\n",
    "    A = matrix_gen(N)\n",
    "    xTrue = np.random.uniform(0,1,len(A))\n",
    "    b = A @ xTrue\n",
    "\n",
    "    LU, piv = lu_factor(A)\n",
    "    xApprox = lu_solve((LU, piv), b)\n",
    "\n",
    "    print(\"error: \", norm(xApprox-xTrue)) \n",
    "    print(\"residual: \", np.float64(b - (A @ xApprox)))\n",
    "    print(\"cond(A): \", cond(A, p=np.inf))\n",
    "\n",
    "for i in range(10,50,10):\n",
    "    print(f\"N: {i}\")\n",
    "    solve_sys(i)\n",
    "\n",
    "# This is for the estimation of the condition number.\n",
    "# np.linalg.norm(A,1) * np.linalg.norm(scipy.linalg.inv(A),1)\n"
   ]
  },
  {
   "cell_type": "code",
   "execution_count": null,
   "id": "c921f29e",
   "metadata": {},
   "outputs": [],
   "source": []
  }
 ],
 "metadata": {
  "kernelspec": {
   "display_name": "Python 3.10.6 64-bit",
   "language": "python",
   "name": "python3"
  },
  "language_info": {
   "codemirror_mode": {
    "name": "ipython",
    "version": 3
   },
   "file_extension": ".py",
   "mimetype": "text/x-python",
   "name": "python",
   "nbconvert_exporter": "python",
   "pygments_lexer": "ipython3",
   "version": "3.10.6"
  },
  "vscode": {
   "interpreter": {
    "hash": "916dbcbb3f70747c44a77c7bcd40155683ae19c65e1c03b4aa3499c5328201f1"
   }
  }
 },
 "nbformat": 4,
 "nbformat_minor": 5
}
