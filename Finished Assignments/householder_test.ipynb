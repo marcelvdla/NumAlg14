{
 "cells": [
  {
   "cell_type": "code",
   "execution_count": 1,
   "metadata": {},
   "outputs": [],
   "source": [
    "import numpy as np"
   ]
  },
  {
   "cell_type": "code",
   "execution_count": 56,
   "metadata": {},
   "outputs": [
    {
     "name": "stdout",
     "output_type": "stream",
     "text": [
      "\n",
      "\n",
      "[1. 2. 5.]\n",
      "-5.477225575051661 [1. 2. 5.] [1 0 0]\n",
      "[6.47722558 2.         5.        ]\n",
      "70.95445115010332\n",
      "[[1. 2. 3.]\n",
      " [2. 4. 1.]\n",
      " [5. 7. 1.]]\n",
      "[6.47722558 2.         5.        ]\n",
      "[[-5.47722558  2.          3.        ]\n",
      " [ 0.          4.          1.        ]\n",
      " [ 0.          7.          1.        ]]\n",
      "[10.21583836  3.15438709  7.88596772]\n",
      "[[-5.47722558 -8.21583836  3.        ]\n",
      " [ 0.          0.84561291  1.        ]\n",
      " [ 0.         -0.88596772  1.        ]]\n",
      "[4.82574186 1.49006447 3.72516118]\n",
      "\n",
      "\n",
      "[ 0.84561291 -0.88596772]\n",
      "-1.224744871391589 [ 0.          0.84561291 -0.88596772] [0 1 0]\n",
      "[ 0.          2.07035778 -0.88596772]\n",
      "5.071320152361951\n",
      "[[-5.47722558 -8.21583836 -1.82574186]\n",
      " [ 0.          0.84561291 -0.49006447]\n",
      " [ 0.         -0.88596772 -2.72516118]]\n",
      "[ 0.          2.07035778 -0.88596772]\n",
      "[[-5.47722558 -8.21583836 -1.82574186]\n",
      " [ 0.         -1.22474487 -0.49006447]\n",
      " [ 0.          0.         -2.72516118]]\n",
      "[ 0.          1.14292869 -0.48909321]\n"
     ]
    },
    {
     "data": {
      "text/plain": [
       "array([[-5.47722558, -8.21583836, -1.82574186],\n",
       "       [ 0.        , -1.22474487, -1.63299316],\n",
       "       [ 0.        ,  0.        , -2.23606798]])"
      ]
     },
     "execution_count": 56,
     "metadata": {},
     "output_type": "execute_result"
    }
   ],
   "source": [
    "def householder_qr(A):\n",
    "    ''' Add some comments\n",
    "    '''\n",
    "    rows, cols = A.shape\n",
    "\n",
    "    for k in range(min(cols, rows-1)):\n",
    "        print('\\n')\n",
    "        print(A[k:,k])\n",
    "        alpha_k = -np.sign(A[k,k]) * np.linalg.norm(A[k:,k], 2)\n",
    "        t = np.array([0 for _ in range(rows - len(A[k:,k]))] + list(A[k:,k]))\n",
    "        e_k = np.array([0 for _ in range(rows - len(A[k:,k]))] + [1] + [0 for _ in range(k,rows-1)])\n",
    "\n",
    "        print(alpha_k, t, e_k)\n",
    "\n",
    "        v_k =  t.T - alpha_k * e_k\n",
    "\n",
    "        print(v_k)\n",
    "        \n",
    "        beta_k = np.dot(v_k.T, v_k)\n",
    "\n",
    "        print(beta_k)\n",
    "\n",
    "        if beta_k == 0:\n",
    "            break\n",
    "\n",
    "        for j in range(k, cols):\n",
    "            print(A)\n",
    "            gamma_j = v_k.T @ A[:,j]\n",
    "            t = (2 * gamma_j / beta_k) * v_k\n",
    "            print(t)\n",
    "            A[:,j] = A[:,j] - t\n",
    "        \n",
    "        # print(A)\n",
    "    \n",
    "    return A\n",
    "\n",
    "\n",
    "A = np.array([[1,2,3],[2,4,1],[5,7,1]], dtype=float)\n",
    "householder_qr(A)\n"
   ]
  },
  {
   "cell_type": "code",
   "execution_count": 57,
   "metadata": {},
   "outputs": [
    {
     "data": {
      "text/plain": [
       "array([[-5.47722558, -8.21583836, -1.82574186],\n",
       "       [ 0.        , -1.22474487, -1.63299316],\n",
       "       [ 0.        ,  0.        , -2.23606798]])"
      ]
     },
     "execution_count": 57,
     "metadata": {},
     "output_type": "execute_result"
    }
   ],
   "source": [
    "A = np.array([[1,2,3],[2,4,1],[5,7,1]])\n",
    "np.linalg.qr(A)[1]"
   ]
  },
  {
   "cell_type": "code",
   "execution_count": null,
   "metadata": {},
   "outputs": [],
   "source": []
  }
 ],
 "metadata": {
  "kernelspec": {
   "display_name": "Python 3.10.6 64-bit",
   "language": "python",
   "name": "python3"
  },
  "language_info": {
   "codemirror_mode": {
    "name": "ipython",
    "version": 3
   },
   "file_extension": ".py",
   "mimetype": "text/x-python",
   "name": "python",
   "nbconvert_exporter": "python",
   "pygments_lexer": "ipython3",
   "version": "3.10.6"
  },
  "orig_nbformat": 4,
  "vscode": {
   "interpreter": {
    "hash": "916dbcbb3f70747c44a77c7bcd40155683ae19c65e1c03b4aa3499c5328201f1"
   }
  }
 },
 "nbformat": 4,
 "nbformat_minor": 2
}
