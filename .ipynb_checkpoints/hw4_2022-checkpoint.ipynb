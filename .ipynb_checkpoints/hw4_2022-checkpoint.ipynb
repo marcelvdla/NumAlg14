{
 "cells": [
  {
   "cell_type": "markdown",
   "id": "d4c81d3e-6c35-4c9e-9721-dc27a3d00251",
   "metadata": {
    "nbgrader": {
     "grade": false,
     "grade_id": "cell-06d3e5bf55c941ae",
     "locked": true,
     "schema_version": 3,
     "solution": false,
     "task": false
    },
    "tags": []
   },
   "source": [
    "# Homework set 4"
   ]
  },
  {
   "cell_type": "markdown",
   "id": "64728360-8bed-4d1f-bb87-bf746ea66002",
   "metadata": {
    "nbgrader": {
     "grade": false,
     "grade_id": "cell-736ff6bc3e0d0696",
     "locked": true,
     "schema_version": 3,
     "solution": false,
     "task": false
    }
   },
   "source": [
    "Before you turn this problem in, make sure everything runs as expected (in the menubar, select Kernel → Restart Kernel and Run All Cells...).\n",
    "\n",
    "Please **submit this Jupyter notebook through Canvas** no later than **Mon Nov. 28, 9:00**. **Submit the notebook file with your answers (as .ipynb file) and a pdf printout. The pdf version can be used by the teachers to provide feedback. A pdf version can be made using the save and export option in the Jupyter Lab file menu.**\n",
    "\n",
    "Homework is in **groups of two**, and you are expected to hand in original work. Work that is copied from another group will not be accepted."
   ]
  },
  {
   "cell_type": "markdown",
   "id": "d8c33491-f6d6-45df-9857-8fae1d7d446c",
   "metadata": {
    "nbgrader": {
     "grade": false,
     "grade_id": "cell-b13bc5ed16bce8e0",
     "locked": true,
     "schema_version": 3,
     "solution": false,
     "task": false
    }
   },
   "source": [
    "# Exercise 0\n",
    "Write down the names + student ID of the people in your group."
   ]
  },
  {
   "cell_type": "markdown",
   "id": "9483e0d9-7aec-4521-90ac-761fb34ee023",
   "metadata": {
    "nbgrader": {
     "grade": true,
     "grade_id": "cell-fd464f55ba436b1c",
     "locked": false,
     "points": 0,
     "schema_version": 3,
     "solution": true,
     "task": false
    }
   },
   "source": [
    "Marcel van de Lagemaat - 10886699 <br>\n",
    "Anton Andersen - 14718758"
   ]
  },
  {
   "cell_type": "markdown",
   "id": "40a6166f-8dc2-4eb0-b953-961fe8f7a2ce",
   "metadata": {},
   "source": [
    "# About imports\n",
    "Please import the needed packages by yourself."
   ]
  },
  {
   "cell_type": "markdown",
   "id": "a78e262c-f192-4fe5-853b-03248173a9be",
   "metadata": {},
   "source": [
    "# Sparse matrices\n",
    "A _sparse matrix_ or _sparse array_ is a matrix in which most of the elements are zero. There is no strict definition how many elements need to be zero for a matrix to be considered sparse. In many examples, the number of nonzeros per row or column is a small fraction, a few percent or less, of the total number of elements of the row or column. By contrast, if most of the elements are nonzero, then the matrix is considered _dense_. \n",
    "\n",
    "In the context of software for scientific computing, a sparse matrix typically refers to a storage format, in which elements which are known to be zero are not stored. In Python, the library `scipy.sparse` defines several sparse matrix classes, such as `scipy.sparse.coo_matrix`. To construct such an object, one passes for each nonzero element the value, and the row and column coordinates. In some cases, one can also just pass the nonzero (off-)diagonals, see `scipy.sparse.diags`.\n",
    "\n",
    "Functions for dense matrices do not always work with sparse matrices. For example for the product of a sparse matrix with a (dense) vector, there is the member function `scipy.sparse.coo_matrix.dot`, and for solving linear equations involving a sparse matrix, there is the function `scipy.sparse.linalg.spsolve`."
   ]
  },
  {
   "cell_type": "code",
   "execution_count": 1,
   "id": "a15365c2-c8be-49b7-b74f-e6ef30ffd26d",
   "metadata": {},
   "outputs": [],
   "source": [
    "# Import some basic packages\n",
    "import numpy as np\n",
    "import matplotlib.pyplot as plt\n",
    "import math\n",
    "import scipy.optimize"
   ]
  },
  {
   "cell_type": "code",
   "execution_count": 2,
   "id": "5af47d5f-d55a-4902-b99c-9ce793726c32",
   "metadata": {},
   "outputs": [
    {
     "name": "stdout",
     "output_type": "stream",
     "text": [
      "When printing a sparse matrix, it shows its nonzero entries:\n",
      "  (0, 0)\t4.0\n",
      "  (3, 3)\t5.0\n",
      "  (1, 1)\t7.0\n",
      "  (0, 2)\t9.0\n",
      "If you want to see its `dense` matrix form, you have to use `mat.toarray()`:\n",
      "[[4. 0. 9. 0.]\n",
      " [0. 7. 0. 0.]\n",
      " [0. 0. 0. 0.]\n",
      " [0. 0. 0. 5.]]\n",
      "For x=[1 2 3 4], Mx = [31. 14.  0. 20.]\n"
     ]
    }
   ],
   "source": [
    "from scipy.sparse import coo_matrix\n",
    "\n",
    "# This is how to create a sparse matrix from a given list of (row, column, value) tuples.\n",
    "row  = [0,   3,   1,   0]\n",
    "col  = [0,   3,   1,   2]\n",
    "data = [4.0, 5.0, 7.0, 9.0]\n",
    "M = coo_matrix((data, (row, col)), shape=(4, 4))\n",
    "\n",
    "print(\"When printing a sparse matrix, it shows its nonzero entries:\")\n",
    "print(M)\n",
    "\n",
    "print(\"If you want to see its `dense` matrix form, you have to use `mat.toarray()`:\")\n",
    "print(M.toarray())\n",
    "\n",
    "# This is how to perform matrix-vector products.\n",
    "x = np.array([1, 2, 3, 4])\n",
    "print(\"For x={}, Mx = {}\".format(x, M.dot(x)))"
   ]
  },
  {
   "cell_type": "code",
   "execution_count": 3,
   "id": "7f1c616d-9651-4da7-94fc-3e53f2362250",
   "metadata": {},
   "outputs": [
    {
     "name": "stdout",
     "output_type": "stream",
     "text": [
      "This matrix has values on its diagonal and on offdiagonals 1 and 2 rows ABOVE it.\n",
      "[[1. 1. 1. 0.]\n",
      " [0. 2. 2. 2.]\n",
      " [0. 0. 3. 3.]\n",
      " [0. 0. 0. 4.]]\n",
      "This matrix has values on its diagonal and on offdiagonals 1 and 2 rows BELOW it.\n",
      "[[1. 0. 0. 0.]\n",
      " [1. 2. 0. 0.]\n",
      " [1. 2. 3. 0.]\n",
      " [0. 2. 3. 4.]]\n",
      "If you want to visualize the matrix for yourself, use `plt.imshow`:\n"
     ]
    },
    {
     "data": {
      "image/png": "[encoded data removed]",
      "text/plain": [
       "<Figure size 432x288 with 2 Axes>"
      ]
     },
     "metadata": {
      "needs_background": "light"
     },
     "output_type": "display_data"
    },
    {
     "name": "stdout",
     "output_type": "stream",
     "text": [
      "For b=[1 2 3 4], the solution x to Mx=b is [1.         0.5        0.33333333 0.5       ]\n",
      "And indeed, Mx - b = [0. 0. 0. 0.]\n"
     ]
    }
   ],
   "source": [
    "from scipy.sparse import diags, SparseEfficiencyWarning\n",
    "from scipy.sparse.linalg import spsolve\n",
    "import warnings\n",
    "warnings.simplefilter('ignore', SparseEfficiencyWarning)  # Suppress confusing warning\n",
    "\n",
    "# This is how to create a sparse matrix from a given list of subdiagonals.\n",
    "diagonals = [[1, 2, 3, 4], [1, 2, 3], [1, 2]]\n",
    "M = diags(diagonals, [0, 1, 2])\n",
    "print(\"This matrix has values on its diagonal and on offdiagonals 1 and 2 rows ABOVE it.\")\n",
    "print(M.toarray())\n",
    "\n",
    "M = diags(diagonals, [0, -1, -2])\n",
    "print(\"This matrix has values on its diagonal and on offdiagonals 1 and 2 rows BELOW it.\")\n",
    "print(M.toarray())\n",
    "\n",
    "print(\"If you want to visualize the matrix for yourself, use `plt.imshow`:\")\n",
    "plt.imshow(M.toarray())\n",
    "plt.colorbar()\n",
    "plt.show()\n",
    "\n",
    "# This is how to solve sparse systems.\n",
    "b = np.array([1, 2, 3, 4])\n",
    "x = spsolve(M, b)\n",
    "print(\"For b={}, the solution x to Mx=b is {}\".format(b, x))\n",
    "print(\"And indeed, Mx - b = {}\".format(M.dot(x) - b))"
   ]
  },
  {
   "cell_type": "markdown",
   "id": "972d8aca-b5f4-48a5-8a43-f3dccb0ea9ef",
   "metadata": {},
   "source": [
    "--------\n",
    "# Exercise 1\n",
    "Consider the following boundary value problem involving a nonlinear ordinary differential equation:\n",
    "\n",
    "$$ \\tag{1} y''(x) + \\exp(y(x)) = 0, \\quad 0 < x < 1, \\quad y(0) = y(1) = 0.$$\n",
    "\n",
    "The purpose of this exercise is to approximate the solution to this boundary value problem, by discretizing the problem and then solving the resulting system of nonlinear equations. "
   ]
  },
  {
   "cell_type": "markdown",
   "id": "cb770a03-ba0f-4de2-b326-c429868fa1ac",
   "metadata": {},
   "source": [
    "Problem (1) will be discretized using finite differences. Suppose we use $n+2$ discretization points for $x$, denoted $x_k = kh$ for $k \\in \\{0, \\ldots, n+1\\}$ and $h = 1/(n+1)$. The approximate solution is denoted $y_k = y(x_k)$. \n",
    "\n",
    "We will use a _second-order central finite difference_ approximation for the second derivative: \n",
    "\n",
    "$$ \\tag{2} y''(x_k) \\approx \\frac{y_{k-1} - 2 y_k + y_{k+1}}{h^2}.$$\n",
    "\n",
    "The term $\\exp(y(x_k))$ can simply be approximated by $\\exp(y_k)$. Thus for $x=x_k$, equation (1) becomes\n",
    "\n",
    "$$ \\tag{3} \\frac{y_{k-1} - 2 y_k + y_{k+1}}{h^2} + \\exp y_k = 0, \\quad k = 1, \\ldots, n.$$\n",
    "\n",
    "The boundary conditions (the conditions $y(0) = y(1) = 1$), lead to the requirement that $y_0 = y_{n+1} = 0$. To find the remaining values $y_k$, $k=1, \\ldots, n$, equation (3) will be used for $k = 1, \\ldots, n$. In this way, one obtains $n$ equations for $n$ unknowns, to which, in principle, a rootfinding method can be applied.\n",
    "\n",
    "We will write $\\vec y = \\begin{bmatrix} y_1 \\\\ \\vdots \\\\ y_n \\end{bmatrix}$ for the vector of values to be determined. \n"
   ]
  },
  {
   "cell_type": "markdown",
   "id": "7c341388-63b4-4b7a-aeaf-9dcf4173cefc",
   "metadata": {},
   "source": [
    "## (a)  (2 pts)\n",
    "As a first step, finish the function `SecondDerMatrix` that returns a matrix $\\bf{M}$ that maps the vector $\\vec y$ to the vector of the approximate values $y''(x_k)$, $k=1, \\ldots, n$ given in (2). To get full points for this part of the exercise you must create output in the form of a sparse matrix."
   ]
  },
  {
   "cell_type": "code",
   "execution_count": 36,
   "id": "dcbf2b55-d129-4cbe-a517-416c2682d8d5",
   "metadata": {},
   "outputs": [
    {
     "data": {
      "text/plain": [
       "array([[-502002.,  251001.,       0., ...,       0.,       0.,       0.],\n",
       "       [ 251001., -502002.,  251001., ...,       0.,       0.,       0.],\n",
       "       [      0.,  251001., -502002., ...,       0.,       0.,       0.],\n",
       "       ...,\n",
       "       [      0.,       0.,       0., ..., -502002.,  251001.,       0.],\n",
       "       [      0.,       0.,       0., ...,  251001., -502002.,  251001.],\n",
       "       [      0.,       0.,       0., ...,       0.,  251001., -502002.]])"
      ]
     },
     "execution_count": 36,
     "metadata": {},
     "output_type": "execute_result"
    }
   ],
   "source": [
    "from scipy.sparse import coo_matrix\n",
    "\n",
    "def SecondDerMatrix(n):\n",
    "    \"\"\" Comment stuff here\n",
    "    \"\"\"\n",
    "    h = 1 / (n + 1)\n",
    "    diag = np.array([- 2 / (h ** 2) for k in range(n)])\n",
    "    diag_shifted = np.array([1 / (h ** 2) for k in range(n-1)])\n",
    "    M = diags([diag, diag_shifted, diag_shifted], [0, 1, -1])\n",
    "    return M\n",
    "\n",
    "SecondDerMatrix(500).toarray()"
   ]
  },
  {
   "cell_type": "markdown",
   "id": "402404a4-8673-4529-b452-94c05e994cf2",
   "metadata": {},
   "source": [
    "## (b)  (1 pt)\n",
    "Second-order central finite differences are exact for quadratic functions. In order to test your implementation, choose $n=10$ and apply the second derivative matrix from part (a) to a quadratic function $y(x)$ with $y(0) = y(1) = 0$ for which you know the second derivative $y''(x)$."
   ]
  },
  {
   "cell_type": "code",
   "execution_count": 37,
   "id": "dea2b67c-4c28-42f3-9555-fdc2795741ab",
   "metadata": {},
   "outputs": [
    {
     "name": "stdout",
     "output_type": "stream",
     "text": [
      "The solution to b is: [0.00612182 0.01224365 0.01754923 0.02142639 0.02346699 0.02346699\n",
      " 0.02142639 0.01754923 0.01224365 0.00612182]. \n",
      "And checking the answer (M @ x - b = 0) with a test gives True. \n"
     ]
    },
    {
     "data": {
      "image/png": "[encoded data removed]",
      "text/plain": [
       "<Figure size 432x288 with 1 Axes>"
      ]
     },
     "metadata": {
      "needs_background": "light"
     },
     "output_type": "display_data"
    }
   ],
   "source": [
    "# This part of the code defines a quadratic function and solves it using sparse matrices and then checks the answer.\n",
    "n = 10\n",
    "M = SecondDerMatrix(n)\n",
    "\n",
    "b = [x**2 - x for x in np.linspace(0,1,n)]\n",
    "x = spsolve(M, b)\n",
    "print(f'The solution to b is: {x}. \\nAnd checking the answer (M @ x - b = 0) with a test gives {np.allclose(M.dot(x), b)}. ')\n",
    "plt.plot(np.linspace(0,1,n), b, marker = 'o', label = 'Exact answer')\n",
    "plt.plot(np.linspace(0,1,n), (M @ x)+0.01, c = 'orange', marker = 'X', label = 'Solution shifter with +0.01 for illustration')\n",
    "plt.legend()\n",
    "plt.show()"
   ]
  },
  {
   "cell_type": "markdown",
   "id": "3c6b937a-a06a-4d24-ae49-d036ef88ba03",
   "metadata": {},
   "source": [
    "## (c) (2 pts)\n",
    "\n",
    "Defining $\\vec y = \\begin{bmatrix} y_1 \\\\ \\vdots \\\\ y_n \\end{bmatrix}$ and \n",
    "$E(\\vec y) = \\begin{bmatrix} \\exp(y_1) \\\\ \\vdots \\\\ \\exp(y_n) \\end{bmatrix}$, the equations (3) can be written in the form\n",
    "\n",
    "$$ F(\\vec y) := {\\bf M} \\cdot \\vec y + E(\\vec y) = \\vec 0. $$\n",
    "\n",
    "Finish the function `F` that defines $F(\\vec y) = {\\bf M} \\cdot \\vec y + E(\\vec y)$.\n",
    "Finish the function `JacobianF` that computes the Jacobian ${\\bf J}_F(\\vec y)$ of $F(\\vec y)$.\n",
    "To get full points for this part of the exercise, the Jacobian must be computed in the form of a sparse matrix."
   ]
  },
  {
   "cell_type": "code",
   "execution_count": 38,
   "id": "f693cfc3-9639-419a-b8f8-5179c3e60123",
   "metadata": {},
   "outputs": [],
   "source": [
    "def F(y):\n",
    "    \"\"\" Comments\n",
    "    \"\"\"\n",
    "    M = SecondDerMatrix(len(y))\n",
    "    E_y = np.exp(y)\n",
    "    F_y = M @ y\n",
    "\n",
    "    return F_y + E_y\n",
    "\n",
    "def JacobianF(y):\n",
    "    \"\"\" Comments\n",
    "    \"\"\"\n",
    "    j1 = SecondDerMatrix(len(y))\n",
    "    j2 = diags([y], [0])\n",
    "    return j1 + j2"
   ]
  },
  {
   "cell_type": "markdown",
   "id": "8da07053-496c-4e60-a278-422c113ff702",
   "metadata": {},
   "source": [
    "## (d)  (3 pts)\n",
    "1. Write down the first order Taylor expansion $T_F(\\vec y, \\vec s)$ for $F(\\vec y+\\vec s)$.\n",
    "2. In order to check your implementation of the Jacobian matrix, compute and print both $F(\\vec y+\\vec s)$ and its first order Taylor approximation $T_F(\\vec y, \\vec s)$ for a choice $\\vec y$ and $\\vec s$.\n",
    "3. Verify numerically that the error $||F(\\vec y + \\vec s) - T_F(\\vec y, \\vec s)||_2$ is $\\mathcal O(||\\vec s||_2^2)$. Hint: take vectors $\\vec s$ with $\\|\\vec s\\|_2 = \\mathcal O(h)$  for multiple values for $h$, e.g. $h = 10^{-k}$ for a range of $k$. "
   ]
  },
  {
   "cell_type": "markdown",
   "id": "48d3fd40-cff8-40b6-8e6e-5aa2a48fd4e0",
   "metadata": {},
   "source": [
    "Subquestion 1. <br>\n",
    "The first order Taylor expansion of $F(\\vec y+\\vec s)$ is... <br>\n",
    "$f(x) \\approx f(x_0) + f'(x_0)(x - x_0)$ <br>\n",
    "Replacing $(x-x_0)$ by h  and $x_0$ by x gives the equation: <br>\n",
    "$f(x) \\approx f(x) + f'(x)(h)$ <br>\n",
    "This equation is the first order Taylor approximation.\n",
    "\n"
   ]
  },
  {
   "cell_type": "code",
   "execution_count": 39,
   "id": "bb9cb01a-1fca-400f-b860-c4efaceada23",
   "metadata": {},
   "outputs": [
    {
     "name": "stdout",
     "output_type": "stream",
     "text": [
      "The solution to b is: [-2.26470627e-06 -4.91037058e-06 -1.31778012e-05 -3.11752296e-06\n",
      "  1.51686733e-06  2.56613310e-06 -6.52356298e-07 -9.10958563e-06\n",
      " -2.73303904e-05 -6.65789680e-05 -7.42994103e-05 -3.45925541e-05\n",
      " -6.45905031e-05 -5.47398335e-05 -6.33949574e-05 -8.23450878e-05\n",
      " -1.45584553e-04 -2.82597873e-04 -3.70060574e-04 -4.26606715e-04\n",
      " -9.60450523e-04 -6.81987965e-04 -3.15994538e-04 -1.85533808e-04\n",
      " -2.33683048e-05  9.81983182e-05  1.82108636e-04  3.24653849e-04\n",
      "  1.56504474e-04  1.42790196e-05 -1.76012347e-04 -1.67779097e-04\n",
      " -4.25751776e-04 -4.18275590e-04 -8.65938679e-04 -8.53364949e-04\n",
      " -1.14781237e-03 -9.18736105e-04 -9.59261228e-04 -8.65492204e-04\n",
      " -1.21998635e-03 -7.11597113e-04 -4.78994939e-04 -4.60717709e-04\n",
      " -2.30267762e-04 -1.66301265e-04 -1.11326226e-04 -5.86072951e-05\n",
      " -4.52719228e-05 -2.34800214e-05]. \n",
      "And checking the answer (M @ x - b = 0) with a test gives True. So the solution is correct.\n"
     ]
    },
    {
     "data": {
      "image/png": "[encoded data removed]",
      "text/plain": [
       "<Figure size 432x288 with 1 Axes>"
      ]
     },
     "metadata": {
      "needs_background": "light"
     },
     "output_type": "display_data"
    }
   ],
   "source": [
    "# Subquestions 2  \n",
    "\n",
    "y = np.random.random(50)\n",
    "n = len(y)\n",
    "F_y = F(y)\n",
    "M = JacobianF(F_y)\n",
    "\n",
    "b = [x**3 - x**2 for x in np.linspace(0,1,n)]\n",
    "x = spsolve(M, b)\n",
    "print(f'The solution to b is: {x}. \\nAnd checking the answer (M @ x - b = 0) with a test gives {np.allclose(M.dot(x), b)}.\\\n",
    " So the solution is correct.')\n",
    "plt.plot(np.linspace(0,1,n), b, marker = 'o', label = 'Exact answer')\n",
    "plt.plot(np.linspace(0,1,n), (M @ x) + 0.01, c = 'orange', marker = 'X', label = 'Solution shifter with 1 for illustration')\n",
    "plt.legend()\n",
    "plt.show()\n",
    "\n",
    "#Subquestions 3.\n"
   ]
  },
  {
   "cell_type": "markdown",
   "id": "c594be9d-8265-4aa0-aa7d-bd9f30e167aa",
   "metadata": {},
   "source": [
    "## (e) (2 pts)\n",
    "1. Finish the function `NewtonSolve` below to solve the system of equations.\n",
    "2. Take $n=40$, and experiment with your function. Try to find a choice of `y0` such that the method doesn't converge, as well as a choice of `y0` such that the method converges. In your answer, list the types of convergence behavior you found. Show a convergent example (if you found any) and a nonconvergent example (if you found any). Show the solutions you found for each example."
   ]
  },
  {
   "cell_type": "code",
   "execution_count": 87,
   "id": "c5adc7dd-783d-4849-b84c-94da20631c9f",
   "metadata": {},
   "outputs": [],
   "source": [
    "# Subquestion 1.\n",
    "def NewtonSolve(y0, K):\n",
    "    \"\"\" Use Newton's method to solve F(y) = 0 with initial guess y0 and K iterations. \"\"\"\n",
    "    y = y0\n",
    "    # YOUR CODE HERE\n",
    "    result_iteration = np.zeros([len(y0), K])\n",
    "    for k in range(K):      \n",
    "        Y = F(y)\n",
    "        J = JacobianF(Y)\n",
    "        dy = spsolve(J, Y)\n",
    "        y -= dy\n",
    "        result_iteration[:,k] = y\n",
    "    return result_iteration"
   ]
  },
  {
   "cell_type": "code",
   "execution_count": 115,
   "id": "8c222c27-9268-4be3-9727-86fddd62378c",
   "metadata": {},
   "outputs": [
    {
     "name": "stdout",
     "output_type": "stream",
     "text": [
      "The starting value is: [0.6227381  0.5496432  0.16735635 0.48854315 0.8136805 ]\n",
      "We can check for the correct solution by plugging the solution into function F(), which gives [[0.46071157 0.13351237 0.02384912 0.13351237 0.46071157]]\n"
     ]
    },
    {
     "data": {
      "image/png": "[encoded data removed]",
      "text/plain": [
       "<Figure size 432x288 with 1 Axes>"
      ]
     },
     "metadata": {
      "needs_background": "light"
     },
     "output_type": "display_data"
    }
   ],
   "source": [
    "# Subquestion 2, code part\n",
    "# Subquestion 2, code part\n",
    "starting_value = np.random.random(5)\n",
    "print(f'The starting value is: {starting_value}')\n",
    "solution = NewtonSolve(starting_value, 40)\n",
    "print(f'We can check for the correct solution by plugging the solution into function F(), which gives {F([solution[:,-1]])}')\n",
    "solution = abs(solution - solution[-1])\n",
    "plt.semilogy(np.sum(solution, axis = 0), label = 'Error at iteration k', marker = 'x')\n",
    "plt.xlabel('Iteration'), plt.ylabel('Error'), plt.legend()\n",
    "plt.show()"
   ]
  },
  {
   "cell_type": "code",
   "execution_count": 117,
   "id": "02b0250c-e169-4b5e-b822-014fcd0f8093",
   "metadata": {},
   "outputs": [
    {
     "name": "stdout",
     "output_type": "stream",
     "text": [
      "The starting values are: [0.68945978, 0.24297955, 0.86040053, 0.46229953, 0.575412]\n"
     ]
    },
    {
     "data": {
      "image/png": "[encoded data removed]",
      "text/plain": [
       "<Figure size 432x288 with 1 Axes>"
      ]
     },
     "metadata": {
      "needs_background": "light"
     },
     "output_type": "display_data"
    }
   ],
   "source": [
    "print(f'The starting values are: {[0.68945978, 0.24297955, 0.86040053, 0.46229953, 0.575412]}')\n",
    "solution_2 = NewtonSolve([0.68945978, 0.24297955, 0.86040053, 0.46229953, 0.575412], 40)\n",
    "\n",
    "solution_2 = abs(solution_2 - solution_2[-1])\n",
    "plt.semilogy(np.sum(solution_2, axis = 0), label = 'Error at iteration k', marker = 'x')\n",
    "plt.xlabel('Iteration'), plt.ylabel('Error'), plt.legend()\n",
    "plt.show()"
   ]
  },
  {
   "cell_type": "markdown",
   "id": "bf7beb03-0981-4691-83f9-a6a2305a8db8",
   "metadata": {},
   "source": [
    "The functions are tested using a vector of five values. For the first plot, the convergence appears to be quadratic (close to linear) until it reaches the minimum. In the second plot the initial values indicate that the function does not converge for the selected values as the error starts increasing after initially decreasing for three iterations. "
   ]
  },
  {
   "cell_type": "code",
   "execution_count": null,
   "id": "4d7f3b3f-7433-43f5-a8d7-3c3dfe0eb6b7",
   "metadata": {},
   "outputs": [],
   "source": []
  }
 ],
 "metadata": {
  "kernelspec": {
   "display_name": "Python 3 (ipykernel)",
   "language": "python",
   "name": "python3"
  },
  "language_info": {
   "codemirror_mode": {
    "name": "ipython",
    "version": 3
   },
   "file_extension": ".py",
   "mimetype": "text/x-python",
   "name": "python",
   "nbconvert_exporter": "python",
   "pygments_lexer": "ipython3",
   "version": "3.9.12"
  },
  "vscode": {
   "interpreter": {
    "hash": "916dbcbb3f70747c44a77c7bcd40155683ae19c65e1c03b4aa3499c5328201f1"
   }
  }
 },
 "nbformat": 4,
 "nbformat_minor": 5
}
